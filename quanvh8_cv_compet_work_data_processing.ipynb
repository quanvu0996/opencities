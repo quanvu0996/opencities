{
  "nbformat": 4,
  "nbformat_minor": 0,
  "metadata": {
    "colab": {
      "name": "quanvh8_cv_compet_work_data_processing.ipynb",
      "provenance": [],
      "collapsed_sections": [],
      "toc_visible": true
    },
    "kernelspec": {
      "name": "python3",
      "display_name": "Python 3"
    },
    "accelerator": "GPU"
  },
  "cells": [
    {
      "cell_type": "code",
      "metadata": {
        "id": "ad4F2j8HenZs",
        "colab_type": "code",
        "outputId": "1d12dbd5-62d3-46d0-b7a2-4b2fca98ff46",
        "colab": {
          "base_uri": "https://localhost:8080/",
          "height": 1000
        }
      },
      "source": [
        "# Run then restart runtime\n",
        "!apt-get install python3-rtree\n",
        "!pip install pystac\n",
        "!pip install geopandas\n",
        "!pip install rasterio\n",
        "!pip install descartes\n",
        "!pip install solaris==0.2.0\n",
        "!pip install rio-tiler"
      ],
      "execution_count": 1,
      "outputs": [
        {
          "output_type": "stream",
          "text": [
            "Reading package lists... Done\n",
            "Building dependency tree       \n",
            "Reading state information... Done\n",
            "The following package was automatically installed and is no longer required:\n",
            "  libnvidia-common-430\n",
            "Use 'apt autoremove' to remove it.\n",
            "The following additional packages will be installed:\n",
            "  libspatialindex-c4v5 libspatialindex-dev libspatialindex4v5\n",
            "  python3-pkg-resources\n",
            "Suggested packages:\n",
            "  python3-setuptools\n",
            "The following NEW packages will be installed:\n",
            "  libspatialindex-c4v5 libspatialindex-dev libspatialindex4v5\n",
            "  python3-pkg-resources python3-rtree\n",
            "0 upgraded, 5 newly installed, 0 to remove and 25 not upgraded.\n",
            "Need to get 671 kB of archives.\n",
            "After this operation, 3,948 kB of additional disk space will be used.\n",
            "Get:1 http://archive.ubuntu.com/ubuntu bionic/universe amd64 libspatialindex4v5 amd64 1.8.5-5 [219 kB]\n",
            "Get:2 http://archive.ubuntu.com/ubuntu bionic/universe amd64 libspatialindex-c4v5 amd64 1.8.5-5 [51.7 kB]\n",
            "Get:3 http://archive.ubuntu.com/ubuntu bionic/main amd64 python3-pkg-resources all 39.0.1-2 [98.8 kB]\n",
            "Get:4 http://archive.ubuntu.com/ubuntu bionic/universe amd64 libspatialindex-dev amd64 1.8.5-5 [285 kB]\n",
            "Get:5 http://archive.ubuntu.com/ubuntu bionic/universe amd64 python3-rtree all 0.8.3+ds-1 [16.9 kB]\n",
            "Fetched 671 kB in 1s (529 kB/s)\n",
            "Selecting previously unselected package libspatialindex4v5:amd64.\n",
            "(Reading database ... 145113 files and directories currently installed.)\n",
            "Preparing to unpack .../libspatialindex4v5_1.8.5-5_amd64.deb ...\n",
            "Unpacking libspatialindex4v5:amd64 (1.8.5-5) ...\n",
            "Selecting previously unselected package libspatialindex-c4v5:amd64.\n",
            "Preparing to unpack .../libspatialindex-c4v5_1.8.5-5_amd64.deb ...\n",
            "Unpacking libspatialindex-c4v5:amd64 (1.8.5-5) ...\n",
            "Selecting previously unselected package python3-pkg-resources.\n",
            "Preparing to unpack .../python3-pkg-resources_39.0.1-2_all.deb ...\n",
            "Unpacking python3-pkg-resources (39.0.1-2) ...\n",
            "Selecting previously unselected package libspatialindex-dev:amd64.\n",
            "Preparing to unpack .../libspatialindex-dev_1.8.5-5_amd64.deb ...\n",
            "Unpacking libspatialindex-dev:amd64 (1.8.5-5) ...\n",
            "Selecting previously unselected package python3-rtree.\n",
            "Preparing to unpack .../python3-rtree_0.8.3+ds-1_all.deb ...\n",
            "Unpacking python3-rtree (0.8.3+ds-1) ...\n",
            "Setting up libspatialindex4v5:amd64 (1.8.5-5) ...\n",
            "Setting up python3-pkg-resources (39.0.1-2) ...\n",
            "Setting up libspatialindex-c4v5:amd64 (1.8.5-5) ...\n",
            "Setting up libspatialindex-dev:amd64 (1.8.5-5) ...\n",
            "Setting up python3-rtree (0.8.3+ds-1) ...\n",
            "Processing triggers for libc-bin (2.27-3ubuntu1) ...\n",
            "/sbin/ldconfig.real: /usr/local/lib/python3.6/dist-packages/ideep4py/lib/libmkldnn.so.0 is not a symbolic link\n",
            "\n",
            "Collecting pystac\n",
            "\u001b[?25l  Downloading https://files.pythonhosted.org/packages/d6/8c/b48441bf218e5e8c830b95c651c274a5a202fb477e0e82f29a8d86e7f77e/pystac-0.3.3-py3-none-any.whl (68kB)\n",
            "\u001b[K     |████████████████████████████████| 71kB 3.5MB/s \n",
            "\u001b[?25hCollecting python-dateutil>=2.7.0\n",
            "\u001b[?25l  Downloading https://files.pythonhosted.org/packages/d4/70/d60450c3dd48ef87586924207ae8907090de0b306af2bce5d134d78615cb/python_dateutil-2.8.1-py2.py3-none-any.whl (227kB)\n",
            "\u001b[K     |████████████████████████████████| 235kB 14.2MB/s \n",
            "\u001b[?25hRequirement already satisfied: six>=1.5 in /usr/local/lib/python3.6/dist-packages (from python-dateutil>=2.7.0->pystac) (1.12.0)\n",
            "\u001b[31mERROR: albumentations 0.1.12 has requirement imgaug<0.2.7,>=0.2.5, but you'll have imgaug 0.2.9 which is incompatible.\u001b[0m\n",
            "Installing collected packages: python-dateutil, pystac\n",
            "  Found existing installation: python-dateutil 2.6.1\n",
            "    Uninstalling python-dateutil-2.6.1:\n",
            "      Successfully uninstalled python-dateutil-2.6.1\n",
            "Successfully installed pystac-0.3.3 python-dateutil-2.8.1\n"
          ],
          "name": "stdout"
        },
        {
          "output_type": "display_data",
          "data": {
            "application/vnd.colab-display-data+json": {
              "pip_warning": {
                "packages": [
                  "dateutil"
                ]
              }
            }
          },
          "metadata": {
            "tags": []
          }
        },
        {
          "output_type": "stream",
          "text": [
            "Collecting geopandas\n",
            "\u001b[?25l  Downloading https://files.pythonhosted.org/packages/83/c5/3cf9cdc39a6f2552922f79915f36b45a95b71fd343cfc51170a5b6ddb6e8/geopandas-0.7.0-py2.py3-none-any.whl (928kB)\n",
            "\r\u001b[K     |▍                               | 10kB 24.0MB/s eta 0:00:01\r\u001b[K     |▊                               | 20kB 3.1MB/s eta 0:00:01\r\u001b[K     |█                               | 30kB 4.0MB/s eta 0:00:01\r\u001b[K     |█▍                              | 40kB 2.9MB/s eta 0:00:01\r\u001b[K     |█▊                              | 51kB 3.6MB/s eta 0:00:01\r\u001b[K     |██▏                             | 61kB 4.3MB/s eta 0:00:01\r\u001b[K     |██▌                             | 71kB 4.7MB/s eta 0:00:01\r\u001b[K     |██▉                             | 81kB 4.9MB/s eta 0:00:01\r\u001b[K     |███▏                            | 92kB 5.5MB/s eta 0:00:01\r\u001b[K     |███▌                            | 102kB 4.8MB/s eta 0:00:01\r\u001b[K     |███▉                            | 112kB 4.8MB/s eta 0:00:01\r\u001b[K     |████▎                           | 122kB 4.8MB/s eta 0:00:01\r\u001b[K     |████▋                           | 133kB 4.8MB/s eta 0:00:01\r\u001b[K     |█████                           | 143kB 4.8MB/s eta 0:00:01\r\u001b[K     |█████▎                          | 153kB 4.8MB/s eta 0:00:01\r\u001b[K     |█████▋                          | 163kB 4.8MB/s eta 0:00:01\r\u001b[K     |██████                          | 174kB 4.8MB/s eta 0:00:01\r\u001b[K     |██████▍                         | 184kB 4.8MB/s eta 0:00:01\r\u001b[K     |██████▊                         | 194kB 4.8MB/s eta 0:00:01\r\u001b[K     |███████                         | 204kB 4.8MB/s eta 0:00:01\r\u001b[K     |███████▍                        | 215kB 4.8MB/s eta 0:00:01\r\u001b[K     |███████▊                        | 225kB 4.8MB/s eta 0:00:01\r\u001b[K     |████████▏                       | 235kB 4.8MB/s eta 0:00:01\r\u001b[K     |████████▌                       | 245kB 4.8MB/s eta 0:00:01\r\u001b[K     |████████▉                       | 256kB 4.8MB/s eta 0:00:01\r\u001b[K     |█████████▏                      | 266kB 4.8MB/s eta 0:00:01\r\u001b[K     |█████████▌                      | 276kB 4.8MB/s eta 0:00:01\r\u001b[K     |█████████▉                      | 286kB 4.8MB/s eta 0:00:01\r\u001b[K     |██████████▎                     | 296kB 4.8MB/s eta 0:00:01\r\u001b[K     |██████████▋                     | 307kB 4.8MB/s eta 0:00:01\r\u001b[K     |███████████                     | 317kB 4.8MB/s eta 0:00:01\r\u001b[K     |███████████▎                    | 327kB 4.8MB/s eta 0:00:01\r\u001b[K     |███████████▋                    | 337kB 4.8MB/s eta 0:00:01\r\u001b[K     |████████████                    | 348kB 4.8MB/s eta 0:00:01\r\u001b[K     |████████████▍                   | 358kB 4.8MB/s eta 0:00:01\r\u001b[K     |████████████▊                   | 368kB 4.8MB/s eta 0:00:01\r\u001b[K     |█████████████                   | 378kB 4.8MB/s eta 0:00:01\r\u001b[K     |█████████████▍                  | 389kB 4.8MB/s eta 0:00:01\r\u001b[K     |█████████████▊                  | 399kB 4.8MB/s eta 0:00:01\r\u001b[K     |██████████████▏                 | 409kB 4.8MB/s eta 0:00:01\r\u001b[K     |██████████████▌                 | 419kB 4.8MB/s eta 0:00:01\r\u001b[K     |██████████████▉                 | 430kB 4.8MB/s eta 0:00:01\r\u001b[K     |███████████████▏                | 440kB 4.8MB/s eta 0:00:01\r\u001b[K     |███████████████▌                | 450kB 4.8MB/s eta 0:00:01\r\u001b[K     |███████████████▉                | 460kB 4.8MB/s eta 0:00:01\r\u001b[K     |████████████████▎               | 471kB 4.8MB/s eta 0:00:01\r\u001b[K     |████████████████▋               | 481kB 4.8MB/s eta 0:00:01\r\u001b[K     |█████████████████               | 491kB 4.8MB/s eta 0:00:01\r\u001b[K     |█████████████████▎              | 501kB 4.8MB/s eta 0:00:01\r\u001b[K     |█████████████████▋              | 512kB 4.8MB/s eta 0:00:01\r\u001b[K     |██████████████████              | 522kB 4.8MB/s eta 0:00:01\r\u001b[K     |██████████████████▍             | 532kB 4.8MB/s eta 0:00:01\r\u001b[K     |██████████████████▊             | 542kB 4.8MB/s eta 0:00:01\r\u001b[K     |███████████████████             | 552kB 4.8MB/s eta 0:00:01\r\u001b[K     |███████████████████▍            | 563kB 4.8MB/s eta 0:00:01\r\u001b[K     |███████████████████▊            | 573kB 4.8MB/s eta 0:00:01\r\u001b[K     |████████████████████▏           | 583kB 4.8MB/s eta 0:00:01\r\u001b[K     |████████████████████▌           | 593kB 4.8MB/s eta 0:00:01\r\u001b[K     |████████████████████▉           | 604kB 4.8MB/s eta 0:00:01\r\u001b[K     |█████████████████████▏          | 614kB 4.8MB/s eta 0:00:01\r\u001b[K     |█████████████████████▌          | 624kB 4.8MB/s eta 0:00:01\r\u001b[K     |██████████████████████          | 634kB 4.8MB/s eta 0:00:01\r\u001b[K     |██████████████████████▎         | 645kB 4.8MB/s eta 0:00:01\r\u001b[K     |██████████████████████▋         | 655kB 4.8MB/s eta 0:00:01\r\u001b[K     |███████████████████████         | 665kB 4.8MB/s eta 0:00:01\r\u001b[K     |███████████████████████▎        | 675kB 4.8MB/s eta 0:00:01\r\u001b[K     |███████████████████████▋        | 686kB 4.8MB/s eta 0:00:01\r\u001b[K     |████████████████████████        | 696kB 4.8MB/s eta 0:00:01\r\u001b[K     |████████████████████████▍       | 706kB 4.8MB/s eta 0:00:01\r\u001b[K     |████████████████████████▊       | 716kB 4.8MB/s eta 0:00:01\r\u001b[K     |█████████████████████████       | 727kB 4.8MB/s eta 0:00:01\r\u001b[K     |█████████████████████████▍      | 737kB 4.8MB/s eta 0:00:01\r\u001b[K     |█████████████████████████▊      | 747kB 4.8MB/s eta 0:00:01\r\u001b[K     |██████████████████████████▏     | 757kB 4.8MB/s eta 0:00:01\r\u001b[K     |██████████████████████████▌     | 768kB 4.8MB/s eta 0:00:01\r\u001b[K     |██████████████████████████▉     | 778kB 4.8MB/s eta 0:00:01\r\u001b[K     |███████████████████████████▏    | 788kB 4.8MB/s eta 0:00:01\r\u001b[K     |███████████████████████████▌    | 798kB 4.8MB/s eta 0:00:01\r\u001b[K     |████████████████████████████    | 808kB 4.8MB/s eta 0:00:01\r\u001b[K     |████████████████████████████▎   | 819kB 4.8MB/s eta 0:00:01\r\u001b[K     |████████████████████████████▋   | 829kB 4.8MB/s eta 0:00:01\r\u001b[K     |█████████████████████████████   | 839kB 4.8MB/s eta 0:00:01\r\u001b[K     |█████████████████████████████▎  | 849kB 4.8MB/s eta 0:00:01\r\u001b[K     |█████████████████████████████▋  | 860kB 4.8MB/s eta 0:00:01\r\u001b[K     |██████████████████████████████  | 870kB 4.8MB/s eta 0:00:01\r\u001b[K     |██████████████████████████████▍ | 880kB 4.8MB/s eta 0:00:01\r\u001b[K     |██████████████████████████████▊ | 890kB 4.8MB/s eta 0:00:01\r\u001b[K     |███████████████████████████████ | 901kB 4.8MB/s eta 0:00:01\r\u001b[K     |███████████████████████████████▍| 911kB 4.8MB/s eta 0:00:01\r\u001b[K     |███████████████████████████████▊| 921kB 4.8MB/s eta 0:00:01\r\u001b[K     |████████████████████████████████| 931kB 4.8MB/s \n",
            "\u001b[?25hRequirement already satisfied: shapely in /usr/local/lib/python3.6/dist-packages (from geopandas) (1.7.0)\n",
            "Collecting fiona\n",
            "\u001b[?25l  Downloading https://files.pythonhosted.org/packages/ec/20/4e63bc5c6e62df889297b382c3ccd4a7a488b00946aaaf81a118158c6f09/Fiona-1.8.13.post1-cp36-cp36m-manylinux1_x86_64.whl (14.7MB)\n",
            "\u001b[K     |████████████████████████████████| 14.7MB 206kB/s \n",
            "\u001b[?25hCollecting pyproj>=2.2.0\n",
            "\u001b[?25l  Downloading https://files.pythonhosted.org/packages/77/15/d93f446d253d26b91553f86cf21049183e9b0f51f8c8e6cb2cff081bcc02/pyproj-2.5.0-cp36-cp36m-manylinux2010_x86_64.whl (10.4MB)\n",
            "\u001b[K     |████████████████████████████████| 10.4MB 19.1MB/s \n",
            "\u001b[?25hRequirement already satisfied: pandas>=0.23.0 in /usr/local/lib/python3.6/dist-packages (from geopandas) (0.25.3)\n",
            "Requirement already satisfied: click<8,>=4.0 in /usr/local/lib/python3.6/dist-packages (from fiona->geopandas) (7.0)\n",
            "Collecting munch\n",
            "  Downloading https://files.pythonhosted.org/packages/cc/ab/85d8da5c9a45e072301beb37ad7f833cd344e04c817d97e0cc75681d248f/munch-2.5.0-py2.py3-none-any.whl\n",
            "Requirement already satisfied: six>=1.7 in /usr/local/lib/python3.6/dist-packages (from fiona->geopandas) (1.12.0)\n",
            "Collecting click-plugins>=1.0\n",
            "  Downloading https://files.pythonhosted.org/packages/e9/da/824b92d9942f4e472702488857914bdd50f73021efea15b4cad9aca8ecef/click_plugins-1.1.1-py2.py3-none-any.whl\n",
            "Collecting cligj>=0.5\n",
            "  Downloading https://files.pythonhosted.org/packages/e4/be/30a58b4b0733850280d01f8bd132591b4668ed5c7046761098d665ac2174/cligj-0.5.0-py3-none-any.whl\n",
            "Requirement already satisfied: attrs>=17 in /usr/local/lib/python3.6/dist-packages (from fiona->geopandas) (19.3.0)\n",
            "Requirement already satisfied: numpy>=1.13.3 in /usr/local/lib/python3.6/dist-packages (from pandas>=0.23.0->geopandas) (1.17.5)\n",
            "Requirement already satisfied: pytz>=2017.2 in /usr/local/lib/python3.6/dist-packages (from pandas>=0.23.0->geopandas) (2018.9)\n",
            "Requirement already satisfied: python-dateutil>=2.6.1 in /usr/local/lib/python3.6/dist-packages (from pandas>=0.23.0->geopandas) (2.8.1)\n",
            "Installing collected packages: munch, click-plugins, cligj, fiona, pyproj, geopandas\n",
            "Successfully installed click-plugins-1.1.1 cligj-0.5.0 fiona-1.8.13.post1 geopandas-0.7.0 munch-2.5.0 pyproj-2.5.0\n",
            "Collecting rasterio\n",
            "\u001b[?25l  Downloading https://files.pythonhosted.org/packages/c7/81/13321f88f582a00705c5f348724728e8999136e19d6e7c56f7e6ac9bb7f9/rasterio-1.1.3-cp36-cp36m-manylinux1_x86_64.whl (18.1MB)\n",
            "\u001b[K     |████████████████████████████████| 18.1MB 192kB/s \n",
            "\u001b[?25hCollecting affine\n",
            "  Downloading https://files.pythonhosted.org/packages/ac/a6/1a39a1ede71210e3ddaf623982b06ecfc5c5c03741ae659073159184cd3e/affine-2.3.0-py2.py3-none-any.whl\n",
            "Requirement already satisfied: click-plugins in /usr/local/lib/python3.6/dist-packages (from rasterio) (1.1.1)\n",
            "Requirement already satisfied: click<8,>=4.0 in /usr/local/lib/python3.6/dist-packages (from rasterio) (7.0)\n",
            "Requirement already satisfied: cligj>=0.5 in /usr/local/lib/python3.6/dist-packages (from rasterio) (0.5.0)\n",
            "Requirement already satisfied: attrs in /usr/local/lib/python3.6/dist-packages (from rasterio) (19.3.0)\n",
            "Collecting snuggs>=1.4.1\n",
            "  Downloading https://files.pythonhosted.org/packages/cc/0e/d27d6e806d6c0d1a2cfdc5d1f088e42339a0a54a09c3343f7f81ec8947ea/snuggs-1.4.7-py3-none-any.whl\n",
            "Requirement already satisfied: numpy in /usr/local/lib/python3.6/dist-packages (from rasterio) (1.17.5)\n",
            "Requirement already satisfied: pyparsing>=2.1.6 in /usr/local/lib/python3.6/dist-packages (from snuggs>=1.4.1->rasterio) (2.4.6)\n",
            "Installing collected packages: affine, snuggs, rasterio\n",
            "Successfully installed affine-2.3.0 rasterio-1.1.3 snuggs-1.4.7\n",
            "Requirement already satisfied: descartes in /usr/local/lib/python3.6/dist-packages (1.1.0)\n",
            "Requirement already satisfied: matplotlib in /usr/local/lib/python3.6/dist-packages (from descartes) (3.1.3)\n",
            "Requirement already satisfied: cycler>=0.10 in /usr/local/lib/python3.6/dist-packages (from matplotlib->descartes) (0.10.0)\n",
            "Requirement already satisfied: pyparsing!=2.0.4,!=2.1.2,!=2.1.6,>=2.0.1 in /usr/local/lib/python3.6/dist-packages (from matplotlib->descartes) (2.4.6)\n",
            "Requirement already satisfied: numpy>=1.11 in /usr/local/lib/python3.6/dist-packages (from matplotlib->descartes) (1.17.5)\n",
            "Requirement already satisfied: kiwisolver>=1.0.1 in /usr/local/lib/python3.6/dist-packages (from matplotlib->descartes) (1.1.0)\n",
            "Requirement already satisfied: python-dateutil>=2.1 in /usr/local/lib/python3.6/dist-packages (from matplotlib->descartes) (2.8.1)\n",
            "Requirement already satisfied: six in /usr/local/lib/python3.6/dist-packages (from cycler>=0.10->matplotlib->descartes) (1.12.0)\n",
            "Requirement already satisfied: setuptools in /usr/local/lib/python3.6/dist-packages (from kiwisolver>=1.0.1->matplotlib->descartes) (45.1.0)\n",
            "Collecting solaris==0.2.0\n",
            "\u001b[?25l  Downloading https://files.pythonhosted.org/packages/12/df/28ddec28b677641738894a34a1491c79dc3a72eacdbceea7dc8cf7838ecd/solaris-0.2.0-py3-none-any.whl (10.2MB)\n",
            "\u001b[K     |████████████████████████████████| 10.2MB 4.8MB/s \n",
            "\u001b[?25hCollecting rio-cogeo>=1.0.0\n",
            "  Downloading https://files.pythonhosted.org/packages/f1/f0/9257859fc84ecf4959206d2da3e93ff313b70f4777e93a22073d778bb96b/rio-cogeo-1.1.10.tar.gz\n",
            "Collecting requests>=2.22.0\n",
            "\u001b[?25l  Downloading https://files.pythonhosted.org/packages/1a/70/1935c770cb3be6e3a8b78ced23d7e0f3b187f5cbfab4749523ed65d7c9b1/requests-2.23.0-py2.py3-none-any.whl (58kB)\n",
            "\u001b[K     |████████████████████████████████| 61kB 9.1MB/s \n",
            "\u001b[?25hRequirement already satisfied: torchvision>=0.3.0 in /usr/local/lib/python3.6/dist-packages (from solaris==0.2.0) (0.5.0)\n",
            "Requirement already satisfied: torch>=1.1.0 in /usr/local/lib/python3.6/dist-packages (from solaris==0.2.0) (1.4.0)\n",
            "Requirement already satisfied: urllib3==1.24.3 in /usr/local/lib/python3.6/dist-packages (from solaris==0.2.0) (1.24.3)\n",
            "Requirement already satisfied: scikit-image>=0.15.0 in /usr/local/lib/python3.6/dist-packages (from solaris==0.2.0) (0.16.2)\n",
            "Requirement already satisfied: numpy>=1.16.4 in /usr/local/lib/python3.6/dist-packages (from solaris==0.2.0) (1.17.5)\n",
            "Collecting tqdm>=4.32.2\n",
            "\u001b[?25l  Downloading https://files.pythonhosted.org/packages/47/55/fd9170ba08a1a64a18a7f8a18f088037316f2a41be04d2fe6ece5a653e8f/tqdm-4.43.0-py2.py3-none-any.whl (59kB)\n",
            "\u001b[K     |████████████████████████████████| 61kB 8.4MB/s \n",
            "\u001b[?25hRequirement already satisfied: pandas>=0.24.2 in /usr/local/lib/python3.6/dist-packages (from solaris==0.2.0) (0.25.3)\n",
            "Collecting albumentations>=0.2.3\n",
            "\u001b[?25l  Downloading https://files.pythonhosted.org/packages/f6/c4/a1e6ac237b5a27874b01900987d902fe83cc469ebdb09eb72a68c4329e78/albumentations-0.4.3.tar.gz (3.2MB)\n",
            "\u001b[K     |████████████████████████████████| 3.2MB 47.8MB/s \n",
            "\u001b[?25hCollecting opencv-python==4.1.0.25\n",
            "\u001b[?25l  Downloading https://files.pythonhosted.org/packages/7b/d2/a2dbf83d4553ca6b3701d91d75e42fe50aea97acdc00652dca515749fb5d/opencv_python-4.1.0.25-cp36-cp36m-manylinux1_x86_64.whl (26.6MB)\n",
            "\u001b[K     |████████████████████████████████| 26.6MB 1.5MB/s \n",
            "\u001b[?25hRequirement already satisfied: scipy>=1.3.0 in /usr/local/lib/python3.6/dist-packages (from solaris==0.2.0) (1.4.1)\n",
            "Requirement already satisfied: rasterio>=1.0.18 in /usr/local/lib/python3.6/dist-packages (from solaris==0.2.0) (1.1.3)\n",
            "Requirement already satisfied: geopandas>=0.4.1 in /usr/local/lib/python3.6/dist-packages (from solaris==0.2.0) (0.7.0)\n",
            "Requirement already satisfied: shapely>=1.6.4 in /usr/local/lib/python3.6/dist-packages (from solaris==0.2.0) (1.7.0)\n",
            "Requirement already satisfied: affine>=2.2.2 in /usr/local/lib/python3.6/dist-packages (from solaris==0.2.0) (2.3.0)\n",
            "Collecting pyyaml>=5.1\n",
            "\u001b[?25l  Downloading https://files.pythonhosted.org/packages/3d/d9/ea9816aea31beeadccd03f1f8b625ecf8f645bd66744484d162d84803ce5/PyYAML-5.3.tar.gz (268kB)\n",
            "\u001b[K     |████████████████████████████████| 276kB 39.5MB/s \n",
            "\u001b[?25hRequirement already satisfied: fiona>=1.8.6 in /usr/local/lib/python3.6/dist-packages (from solaris==0.2.0) (1.8.13.post1)\n",
            "Requirement already satisfied: matplotlib>=3.1.1 in /usr/local/lib/python3.6/dist-packages (from solaris==0.2.0) (3.1.3)\n",
            "Requirement already satisfied: networkx>=2.3 in /usr/local/lib/python3.6/dist-packages (from solaris==0.2.0) (2.4)\n",
            "Collecting tensorflow==1.13.1\n",
            "\u001b[?25l  Downloading https://files.pythonhosted.org/packages/77/63/a9fa76de8dffe7455304c4ed635be4aa9c0bacef6e0633d87d5f54530c5c/tensorflow-1.13.1-cp36-cp36m-manylinux1_x86_64.whl (92.5MB)\n",
            "\u001b[K     |████████████████████████████████| 92.5MB 37.9MB/s \n",
            "\u001b[?25hRequirement already satisfied: rtree>=0.8.3 in /usr/lib/python3/dist-packages (from solaris==0.2.0) (0.8.3)\n",
            "Requirement already satisfied: click in /usr/local/lib/python3.6/dist-packages (from rio-cogeo>=1.0.0->solaris==0.2.0) (7.0)\n",
            "Collecting supermercado\n",
            "  Downloading https://files.pythonhosted.org/packages/8f/c0/9c7878fbd8533486d04dfee7ef751c458dd73d687e823ad88574f3b2e631/supermercado-0.0.5.tar.gz\n",
            "Collecting mercantile\n",
            "  Downloading https://files.pythonhosted.org/packages/9d/1d/80d28ba17e4647bf820e8d5f485d58f9da9c5ca424450489eb49e325ba66/mercantile-1.1.2-py3-none-any.whl\n",
            "Requirement already satisfied: idna<3,>=2.5 in /usr/local/lib/python3.6/dist-packages (from requests>=2.22.0->solaris==0.2.0) (2.8)\n",
            "Requirement already satisfied: certifi>=2017.4.17 in /usr/local/lib/python3.6/dist-packages (from requests>=2.22.0->solaris==0.2.0) (2019.11.28)\n",
            "Requirement already satisfied: chardet<4,>=3.0.2 in /usr/local/lib/python3.6/dist-packages (from requests>=2.22.0->solaris==0.2.0) (3.0.4)\n",
            "Requirement already satisfied: six in /usr/local/lib/python3.6/dist-packages (from torchvision>=0.3.0->solaris==0.2.0) (1.12.0)\n",
            "Requirement already satisfied: pillow>=4.1.1 in /usr/local/lib/python3.6/dist-packages (from torchvision>=0.3.0->solaris==0.2.0) (6.2.2)\n",
            "Requirement already satisfied: PyWavelets>=0.4.0 in /usr/local/lib/python3.6/dist-packages (from scikit-image>=0.15.0->solaris==0.2.0) (1.1.1)\n",
            "Requirement already satisfied: imageio>=2.3.0 in /usr/local/lib/python3.6/dist-packages (from scikit-image>=0.15.0->solaris==0.2.0) (2.4.1)\n",
            "Requirement already satisfied: python-dateutil>=2.6.1 in /usr/local/lib/python3.6/dist-packages (from pandas>=0.24.2->solaris==0.2.0) (2.8.1)\n",
            "Requirement already satisfied: pytz>=2017.2 in /usr/local/lib/python3.6/dist-packages (from pandas>=0.24.2->solaris==0.2.0) (2018.9)\n",
            "Collecting imgaug<0.2.7,>=0.2.5\n",
            "\u001b[?25l  Downloading https://files.pythonhosted.org/packages/ad/2e/748dbb7bb52ec8667098bae9b585f448569ae520031932687761165419a2/imgaug-0.2.6.tar.gz (631kB)\n",
            "\u001b[K     |████████████████████████████████| 634kB 41.7MB/s \n",
            "\u001b[?25hRequirement already satisfied: click-plugins in /usr/local/lib/python3.6/dist-packages (from rasterio>=1.0.18->solaris==0.2.0) (1.1.1)\n",
            "Requirement already satisfied: snuggs>=1.4.1 in /usr/local/lib/python3.6/dist-packages (from rasterio>=1.0.18->solaris==0.2.0) (1.4.7)\n",
            "Requirement already satisfied: attrs in /usr/local/lib/python3.6/dist-packages (from rasterio>=1.0.18->solaris==0.2.0) (19.3.0)\n",
            "Requirement already satisfied: cligj>=0.5 in /usr/local/lib/python3.6/dist-packages (from rasterio>=1.0.18->solaris==0.2.0) (0.5.0)\n",
            "Requirement already satisfied: pyproj>=2.2.0 in /usr/local/lib/python3.6/dist-packages (from geopandas>=0.4.1->solaris==0.2.0) (2.5.0)\n",
            "Requirement already satisfied: munch in /usr/local/lib/python3.6/dist-packages (from fiona>=1.8.6->solaris==0.2.0) (2.5.0)\n",
            "Requirement already satisfied: cycler>=0.10 in /usr/local/lib/python3.6/dist-packages (from matplotlib>=3.1.1->solaris==0.2.0) (0.10.0)\n",
            "Requirement already satisfied: kiwisolver>=1.0.1 in /usr/local/lib/python3.6/dist-packages (from matplotlib>=3.1.1->solaris==0.2.0) (1.1.0)\n",
            "Requirement already satisfied: pyparsing!=2.0.4,!=2.1.2,!=2.1.6,>=2.0.1 in /usr/local/lib/python3.6/dist-packages (from matplotlib>=3.1.1->solaris==0.2.0) (2.4.6)\n",
            "Requirement already satisfied: decorator>=4.3.0 in /usr/local/lib/python3.6/dist-packages (from networkx>=2.3->solaris==0.2.0) (4.4.1)\n",
            "Collecting tensorflow-estimator<1.14.0rc0,>=1.13.0\n",
            "\u001b[?25l  Downloading https://files.pythonhosted.org/packages/bb/48/13f49fc3fa0fdf916aa1419013bb8f2ad09674c275b4046d5ee669a46873/tensorflow_estimator-1.13.0-py2.py3-none-any.whl (367kB)\n",
            "\u001b[K     |████████████████████████████████| 368kB 44.6MB/s \n",
            "\u001b[?25hCollecting tensorboard<1.14.0,>=1.13.0\n",
            "\u001b[?25l  Downloading https://files.pythonhosted.org/packages/0f/39/bdd75b08a6fba41f098b6cb091b9e8c7a80e1b4d679a581a0ccd17b10373/tensorboard-1.13.1-py3-none-any.whl (3.2MB)\n",
            "\u001b[K     |████████████████████████████████| 3.2MB 45.3MB/s \n",
            "\u001b[?25hRequirement already satisfied: termcolor>=1.1.0 in /usr/local/lib/python3.6/dist-packages (from tensorflow==1.13.1->solaris==0.2.0) (1.1.0)\n",
            "Requirement already satisfied: gast>=0.2.0 in /usr/local/lib/python3.6/dist-packages (from tensorflow==1.13.1->solaris==0.2.0) (0.2.2)\n",
            "Requirement already satisfied: astor>=0.6.0 in /usr/local/lib/python3.6/dist-packages (from tensorflow==1.13.1->solaris==0.2.0) (0.8.1)\n",
            "Requirement already satisfied: grpcio>=1.8.6 in /usr/local/lib/python3.6/dist-packages (from tensorflow==1.13.1->solaris==0.2.0) (1.27.1)\n",
            "Requirement already satisfied: protobuf>=3.6.1 in /usr/local/lib/python3.6/dist-packages (from tensorflow==1.13.1->solaris==0.2.0) (3.10.0)\n",
            "Requirement already satisfied: keras-preprocessing>=1.0.5 in /usr/local/lib/python3.6/dist-packages (from tensorflow==1.13.1->solaris==0.2.0) (1.1.0)\n",
            "Requirement already satisfied: absl-py>=0.1.6 in /usr/local/lib/python3.6/dist-packages (from tensorflow==1.13.1->solaris==0.2.0) (0.9.0)\n",
            "Requirement already satisfied: wheel>=0.26 in /usr/local/lib/python3.6/dist-packages (from tensorflow==1.13.1->solaris==0.2.0) (0.34.2)\n",
            "Requirement already satisfied: keras-applications>=1.0.6 in /usr/local/lib/python3.6/dist-packages (from tensorflow==1.13.1->solaris==0.2.0) (1.0.8)\n",
            "Requirement already satisfied: setuptools in /usr/local/lib/python3.6/dist-packages (from kiwisolver>=1.0.1->matplotlib>=3.1.1->solaris==0.2.0) (45.1.0)\n",
            "Collecting mock>=2.0.0\n",
            "  Downloading https://files.pythonhosted.org/packages/30/6a/9bde648117ec7087c89a45de0a8b25aba21d54d3defd08cb24eacded875f/mock-4.0.1-py3-none-any.whl\n",
            "Requirement already satisfied: markdown>=2.6.8 in /usr/local/lib/python3.6/dist-packages (from tensorboard<1.14.0,>=1.13.0->tensorflow==1.13.1->solaris==0.2.0) (3.2.1)\n",
            "Requirement already satisfied: werkzeug>=0.11.15 in /usr/local/lib/python3.6/dist-packages (from tensorboard<1.14.0,>=1.13.0->tensorflow==1.13.1->solaris==0.2.0) (1.0.0)\n",
            "Requirement already satisfied: h5py in /usr/local/lib/python3.6/dist-packages (from keras-applications>=1.0.6->tensorflow==1.13.1->solaris==0.2.0) (2.8.0)\n",
            "Building wheels for collected packages: rio-cogeo, albumentations, pyyaml, supermercado, imgaug\n",
            "  Building wheel for rio-cogeo (setup.py) ... \u001b[?25l\u001b[?25hdone\n",
            "  Created wheel for rio-cogeo: filename=rio_cogeo-1.1.10-cp36-none-any.whl size=17290 sha256=01807b27e479490112882dad2350919c27d9c446fcd3031057cc5cb89ff17f45\n",
            "  Stored in directory: /root/.cache/pip/wheels/01/c8/ec/315e0099c1b46103012ce9b7193be5b49e342b7f11ad1a5db6\n",
            "  Building wheel for albumentations (setup.py) ... \u001b[?25l\u001b[?25hdone\n",
            "  Created wheel for albumentations: filename=albumentations-0.4.3-cp36-none-any.whl size=60764 sha256=e336879a67e46472bd502b9e1544823040b31934de3e697367315183668c6f46\n",
            "  Stored in directory: /root/.cache/pip/wheels/20/16/8e/d3bec34bf30adff30929226f0b83cc8c005b5af131f51db9d0\n",
            "  Building wheel for pyyaml (setup.py) ... \u001b[?25l\u001b[?25hdone\n",
            "  Created wheel for pyyaml: filename=PyYAML-5.3-cp36-cp36m-linux_x86_64.whl size=44229 sha256=4f7af64618c6703021816f68b07ea9fef1caa8d59caa2302a22b368c38d10180\n",
            "  Stored in directory: /root/.cache/pip/wheels/e4/76/4d/a95b8dd7b452b69e8ed4f68b69e1b55e12c9c9624dd962b191\n",
            "  Building wheel for supermercado (setup.py) ... \u001b[?25l\u001b[?25hdone\n",
            "  Created wheel for supermercado: filename=supermercado-0.0.5-cp36-none-any.whl size=7087 sha256=a27e76fd688b4a11a7ec90e9132252ea5f6b64fa39b6127eb58a6df9836052f7\n",
            "  Stored in directory: /root/.cache/pip/wheels/9b/2f/8e/011d7ab17b423894b4b358204c0bb854a8bb8de199e9f98f30\n",
            "  Building wheel for imgaug (setup.py) ... \u001b[?25l\u001b[?25hdone\n",
            "  Created wheel for imgaug: filename=imgaug-0.2.6-cp36-none-any.whl size=654020 sha256=8afaf92adb111f10abe30bb7da87a5340e744d7e8a34c28076601e69dcc01979\n",
            "  Stored in directory: /root/.cache/pip/wheels/97/ec/48/0d25896c417b715af6236dbcef8f0bed136a1a5e52972fc6d0\n",
            "Successfully built rio-cogeo albumentations pyyaml supermercado imgaug\n",
            "\u001b[31mERROR: google-colab 1.0.0 has requirement requests~=2.21.0, but you'll have requests 2.23.0 which is incompatible.\u001b[0m\n",
            "\u001b[31mERROR: datascience 0.10.6 has requirement folium==0.2.1, but you'll have folium 0.8.3 which is incompatible.\u001b[0m\n",
            "\u001b[31mERROR: albumentations 0.4.3 has requirement opencv-python>=4.1.1, but you'll have opencv-python 4.1.0.25 which is incompatible.\u001b[0m\n",
            "Installing collected packages: mercantile, supermercado, rio-cogeo, requests, tqdm, imgaug, pyyaml, opencv-python, albumentations, mock, tensorflow-estimator, tensorboard, tensorflow, solaris\n",
            "  Found existing installation: requests 2.21.0\n",
            "    Uninstalling requests-2.21.0:\n",
            "      Successfully uninstalled requests-2.21.0\n",
            "  Found existing installation: tqdm 4.28.1\n",
            "    Uninstalling tqdm-4.28.1:\n",
            "      Successfully uninstalled tqdm-4.28.1\n",
            "  Found existing installation: imgaug 0.2.9\n",
            "    Uninstalling imgaug-0.2.9:\n",
            "      Successfully uninstalled imgaug-0.2.9\n",
            "  Found existing installation: PyYAML 3.13\n",
            "    Uninstalling PyYAML-3.13:\n",
            "      Successfully uninstalled PyYAML-3.13\n",
            "  Found existing installation: opencv-python 4.1.2.30\n",
            "    Uninstalling opencv-python-4.1.2.30:\n",
            "      Successfully uninstalled opencv-python-4.1.2.30\n",
            "  Found existing installation: albumentations 0.1.12\n",
            "    Uninstalling albumentations-0.1.12:\n",
            "      Successfully uninstalled albumentations-0.1.12\n",
            "  Found existing installation: tensorflow-estimator 1.15.1\n",
            "    Uninstalling tensorflow-estimator-1.15.1:\n",
            "      Successfully uninstalled tensorflow-estimator-1.15.1\n",
            "  Found existing installation: tensorboard 1.15.0\n",
            "    Uninstalling tensorboard-1.15.0:\n",
            "      Successfully uninstalled tensorboard-1.15.0\n",
            "  Found existing installation: tensorflow 1.15.0\n",
            "    Uninstalling tensorflow-1.15.0:\n",
            "      Successfully uninstalled tensorflow-1.15.0\n",
            "Successfully installed albumentations-0.4.3 imgaug-0.2.6 mercantile-1.1.2 mock-4.0.1 opencv-python-4.1.0.25 pyyaml-5.3 requests-2.23.0 rio-cogeo-1.1.10 solaris-0.2.0 supermercado-0.0.5 tensorboard-1.13.1 tensorflow-1.13.1 tensorflow-estimator-1.13.0 tqdm-4.43.0\n"
          ],
          "name": "stdout"
        },
        {
          "output_type": "display_data",
          "data": {
            "application/vnd.colab-display-data+json": {
              "pip_warning": {
                "packages": [
                  "requests",
                  "tqdm"
                ]
              }
            }
          },
          "metadata": {
            "tags": []
          }
        },
        {
          "output_type": "stream",
          "text": [
            "Collecting rio-tiler\n",
            "\u001b[?25l  Downloading https://files.pythonhosted.org/packages/52/aa/1a3ac01a8f25811072b887ae3e3024102aceef3b579a83777a672c629a84/rio-tiler-1.4.0.tar.gz (114kB)\n",
            "\r\u001b[K     |██▉                             | 10kB 18.5MB/s eta 0:00:01\r\u001b[K     |█████▊                          | 20kB 3.0MB/s eta 0:00:01\r\u001b[K     |████████▋                       | 30kB 4.4MB/s eta 0:00:01\r\u001b[K     |███████████▍                    | 40kB 5.7MB/s eta 0:00:01\r\u001b[K     |██████████████▎                 | 51kB 3.6MB/s eta 0:00:01\r\u001b[K     |█████████████████▏              | 61kB 4.3MB/s eta 0:00:01\r\u001b[K     |████████████████████            | 71kB 4.9MB/s eta 0:00:01\r\u001b[K     |██████████████████████▉         | 81kB 5.5MB/s eta 0:00:01\r\u001b[K     |█████████████████████████▊      | 92kB 6.1MB/s eta 0:00:01\r\u001b[K     |████████████████████████████▋   | 102kB 4.8MB/s eta 0:00:01\r\u001b[K     |███████████████████████████████▌| 112kB 4.8MB/s eta 0:00:01\r\u001b[K     |████████████████████████████████| 122kB 4.8MB/s \n",
            "\u001b[?25hRequirement already satisfied: numpy in /usr/local/lib/python3.6/dist-packages (from rio-tiler) (1.17.5)\n",
            "Requirement already satisfied: numexpr in /usr/local/lib/python3.6/dist-packages (from rio-tiler) (2.7.1)\n",
            "Requirement already satisfied: mercantile in /usr/local/lib/python3.6/dist-packages (from rio-tiler) (1.1.2)\n",
            "Requirement already satisfied: boto3 in /usr/local/lib/python3.6/dist-packages (from rio-tiler) (1.11.15)\n",
            "Requirement already satisfied: rasterio[s3]>=1.1 in /usr/local/lib/python3.6/dist-packages (from rio-tiler) (1.1.3)\n",
            "Collecting rio-toa\n",
            "  Downloading https://files.pythonhosted.org/packages/de/19/ccfdc23a822e31fdb61fef90ad641089837e86187e2b7168c2359db85df2/rio-toa-0.3.0.tar.gz\n",
            "Requirement already satisfied: click>=3.0 in /usr/local/lib/python3.6/dist-packages (from mercantile->rio-tiler) (7.0)\n",
            "Requirement already satisfied: s3transfer<0.4.0,>=0.3.0 in /usr/local/lib/python3.6/dist-packages (from boto3->rio-tiler) (0.3.3)\n",
            "Requirement already satisfied: botocore<1.15.0,>=1.14.15 in /usr/local/lib/python3.6/dist-packages (from boto3->rio-tiler) (1.14.15)\n",
            "Requirement already satisfied: jmespath<1.0.0,>=0.7.1 in /usr/local/lib/python3.6/dist-packages (from boto3->rio-tiler) (0.9.4)\n",
            "Requirement already satisfied: affine in /usr/local/lib/python3.6/dist-packages (from rasterio[s3]>=1.1->rio-tiler) (2.3.0)\n",
            "Requirement already satisfied: click-plugins in /usr/local/lib/python3.6/dist-packages (from rasterio[s3]>=1.1->rio-tiler) (1.1.1)\n",
            "Requirement already satisfied: cligj>=0.5 in /usr/local/lib/python3.6/dist-packages (from rasterio[s3]>=1.1->rio-tiler) (0.5.0)\n",
            "Requirement already satisfied: attrs in /usr/local/lib/python3.6/dist-packages (from rasterio[s3]>=1.1->rio-tiler) (19.3.0)\n",
            "Requirement already satisfied: snuggs>=1.4.1 in /usr/local/lib/python3.6/dist-packages (from rasterio[s3]>=1.1->rio-tiler) (1.4.7)\n",
            "Collecting rio-mucho\n",
            "  Downloading https://files.pythonhosted.org/packages/8a/ba/e9a23efc6a8ffe6b2340c9f1040cd26a730754c75a58061c9302c66156fa/rio_mucho-1.0.0-py3-none-any.whl\n",
            "Requirement already satisfied: urllib3<1.26,>=1.20; python_version != \"3.4\" in /usr/local/lib/python3.6/dist-packages (from botocore<1.15.0,>=1.14.15->boto3->rio-tiler) (1.24.3)\n",
            "Requirement already satisfied: python-dateutil<3.0.0,>=2.1 in /usr/local/lib/python3.6/dist-packages (from botocore<1.15.0,>=1.14.15->boto3->rio-tiler) (2.8.1)\n",
            "Requirement already satisfied: docutils<0.16,>=0.10 in /usr/local/lib/python3.6/dist-packages (from botocore<1.15.0,>=1.14.15->boto3->rio-tiler) (0.15.2)\n",
            "Requirement already satisfied: pyparsing>=2.1.6 in /usr/local/lib/python3.6/dist-packages (from snuggs>=1.4.1->rasterio[s3]>=1.1->rio-tiler) (2.4.6)\n",
            "Requirement already satisfied: six>=1.5 in /usr/local/lib/python3.6/dist-packages (from python-dateutil<3.0.0,>=2.1->botocore<1.15.0,>=1.14.15->boto3->rio-tiler) (1.12.0)\n",
            "Building wheels for collected packages: rio-tiler, rio-toa\n",
            "  Building wheel for rio-tiler (setup.py) ... \u001b[?25l\u001b[?25hdone\n",
            "  Created wheel for rio-tiler: filename=rio_tiler-1.4.0-cp36-none-any.whl size=173020 sha256=548e9293b19d82897bff131ed067bd478185291056ab677952b6429489b022ff\n",
            "  Stored in directory: /root/.cache/pip/wheels/c4/f1/d3/60b689580c9701d5b5332d8fe3675a3c8a8c8342e192e3a8d5\n",
            "  Building wheel for rio-toa (setup.py) ... \u001b[?25l\u001b[?25hdone\n",
            "  Created wheel for rio-toa: filename=rio_toa-0.3.0-cp36-none-any.whl size=12428 sha256=f8c3164318375a8c70dd7ff38c3f616018ec6f3228bf972f31691c5860c9a166\n",
            "  Stored in directory: /root/.cache/pip/wheels/12/25/52/036fe06fa14768bf5e4eef4abd4beccb3924b695199f1721a2\n",
            "Successfully built rio-tiler rio-toa\n",
            "Installing collected packages: rio-mucho, rio-toa, rio-tiler\n",
            "Successfully installed rio-mucho-1.0.0 rio-tiler-1.4.0 rio-toa-0.3.0\n"
          ],
          "name": "stdout"
        }
      ]
    },
    {
      "cell_type": "code",
      "metadata": {
        "id": "Q-vsFSZqZEPG",
        "colab_type": "code",
        "outputId": "d5ed489d-7f4e-499a-900c-98638b3bfc4c",
        "colab": {
          "base_uri": "https://localhost:8080/",
          "height": 1000
        }
      },
      "source": [
        "!pip install solaris==0.2.0"
      ],
      "execution_count": 2,
      "outputs": [
        {
          "output_type": "stream",
          "text": [
            "Requirement already satisfied: solaris==0.2.0 in /usr/local/lib/python3.6/dist-packages (0.2.0)\n",
            "Requirement already satisfied: scipy>=1.3.0 in /usr/local/lib/python3.6/dist-packages (from solaris==0.2.0) (1.4.1)\n",
            "Requirement already satisfied: rio-cogeo>=1.0.0 in /usr/local/lib/python3.6/dist-packages (from solaris==0.2.0) (1.1.10)\n",
            "Requirement already satisfied: pandas>=0.24.2 in /usr/local/lib/python3.6/dist-packages (from solaris==0.2.0) (0.25.3)\n",
            "Requirement already satisfied: albumentations>=0.2.3 in /usr/local/lib/python3.6/dist-packages (from solaris==0.2.0) (0.4.3)\n",
            "Requirement already satisfied: pyyaml>=5.1 in /usr/local/lib/python3.6/dist-packages (from solaris==0.2.0) (5.3)\n",
            "Requirement already satisfied: opencv-python==4.1.0.25 in /usr/local/lib/python3.6/dist-packages (from solaris==0.2.0) (4.1.0.25)\n",
            "Requirement already satisfied: tensorflow==1.13.1 in /usr/local/lib/python3.6/dist-packages (from solaris==0.2.0) (1.13.1)\n",
            "Requirement already satisfied: torchvision>=0.3.0 in /usr/local/lib/python3.6/dist-packages (from solaris==0.2.0) (0.5.0)\n",
            "Requirement already satisfied: tqdm>=4.32.2 in /usr/local/lib/python3.6/dist-packages (from solaris==0.2.0) (4.43.0)\n",
            "Requirement already satisfied: numpy>=1.16.4 in /usr/local/lib/python3.6/dist-packages (from solaris==0.2.0) (1.17.5)\n",
            "Requirement already satisfied: requests>=2.22.0 in /usr/local/lib/python3.6/dist-packages (from solaris==0.2.0) (2.23.0)\n",
            "Requirement already satisfied: rasterio>=1.0.18 in /usr/local/lib/python3.6/dist-packages (from solaris==0.2.0) (1.1.3)\n",
            "Requirement already satisfied: networkx>=2.3 in /usr/local/lib/python3.6/dist-packages (from solaris==0.2.0) (2.4)\n",
            "Requirement already satisfied: shapely>=1.6.4 in /usr/local/lib/python3.6/dist-packages (from solaris==0.2.0) (1.7.0)\n",
            "Requirement already satisfied: matplotlib>=3.1.1 in /usr/local/lib/python3.6/dist-packages (from solaris==0.2.0) (3.1.3)\n",
            "Requirement already satisfied: torch>=1.1.0 in /usr/local/lib/python3.6/dist-packages (from solaris==0.2.0) (1.4.0)\n",
            "Requirement already satisfied: scikit-image>=0.15.0 in /usr/local/lib/python3.6/dist-packages (from solaris==0.2.0) (0.16.2)\n",
            "Requirement already satisfied: rtree>=0.8.3 in /usr/lib/python3/dist-packages (from solaris==0.2.0) (0.8.3)\n",
            "Requirement already satisfied: geopandas>=0.4.1 in /usr/local/lib/python3.6/dist-packages (from solaris==0.2.0) (0.7.0)\n",
            "Requirement already satisfied: urllib3==1.24.3 in /usr/local/lib/python3.6/dist-packages (from solaris==0.2.0) (1.24.3)\n",
            "Requirement already satisfied: fiona>=1.8.6 in /usr/local/lib/python3.6/dist-packages (from solaris==0.2.0) (1.8.13.post1)\n",
            "Requirement already satisfied: affine>=2.2.2 in /usr/local/lib/python3.6/dist-packages (from solaris==0.2.0) (2.3.0)\n",
            "Requirement already satisfied: click in /usr/local/lib/python3.6/dist-packages (from rio-cogeo>=1.0.0->solaris==0.2.0) (7.0)\n",
            "Requirement already satisfied: mercantile in /usr/local/lib/python3.6/dist-packages (from rio-cogeo>=1.0.0->solaris==0.2.0) (1.1.2)\n",
            "Requirement already satisfied: supermercado in /usr/local/lib/python3.6/dist-packages (from rio-cogeo>=1.0.0->solaris==0.2.0) (0.0.5)\n",
            "Requirement already satisfied: pytz>=2017.2 in /usr/local/lib/python3.6/dist-packages (from pandas>=0.24.2->solaris==0.2.0) (2018.9)\n",
            "Requirement already satisfied: python-dateutil>=2.6.1 in /usr/local/lib/python3.6/dist-packages (from pandas>=0.24.2->solaris==0.2.0) (2.8.1)\n",
            "Requirement already satisfied: imgaug<0.2.7,>=0.2.5 in /usr/local/lib/python3.6/dist-packages (from albumentations>=0.2.3->solaris==0.2.0) (0.2.6)\n",
            "Requirement already satisfied: grpcio>=1.8.6 in /usr/local/lib/python3.6/dist-packages (from tensorflow==1.13.1->solaris==0.2.0) (1.27.1)\n",
            "Requirement already satisfied: astor>=0.6.0 in /usr/local/lib/python3.6/dist-packages (from tensorflow==1.13.1->solaris==0.2.0) (0.8.1)\n",
            "Requirement already satisfied: keras-preprocessing>=1.0.5 in /usr/local/lib/python3.6/dist-packages (from tensorflow==1.13.1->solaris==0.2.0) (1.1.0)\n",
            "Requirement already satisfied: protobuf>=3.6.1 in /usr/local/lib/python3.6/dist-packages (from tensorflow==1.13.1->solaris==0.2.0) (3.10.0)\n",
            "Requirement already satisfied: absl-py>=0.1.6 in /usr/local/lib/python3.6/dist-packages (from tensorflow==1.13.1->solaris==0.2.0) (0.9.0)\n",
            "Requirement already satisfied: tensorflow-estimator<1.14.0rc0,>=1.13.0 in /usr/local/lib/python3.6/dist-packages (from tensorflow==1.13.1->solaris==0.2.0) (1.13.0)\n",
            "Requirement already satisfied: six>=1.10.0 in /usr/local/lib/python3.6/dist-packages (from tensorflow==1.13.1->solaris==0.2.0) (1.12.0)\n",
            "Requirement already satisfied: gast>=0.2.0 in /usr/local/lib/python3.6/dist-packages (from tensorflow==1.13.1->solaris==0.2.0) (0.2.2)\n",
            "Requirement already satisfied: tensorboard<1.14.0,>=1.13.0 in /usr/local/lib/python3.6/dist-packages (from tensorflow==1.13.1->solaris==0.2.0) (1.13.1)\n",
            "Requirement already satisfied: wheel>=0.26 in /usr/local/lib/python3.6/dist-packages (from tensorflow==1.13.1->solaris==0.2.0) (0.34.2)\n",
            "Requirement already satisfied: keras-applications>=1.0.6 in /usr/local/lib/python3.6/dist-packages (from tensorflow==1.13.1->solaris==0.2.0) (1.0.8)\n",
            "Requirement already satisfied: termcolor>=1.1.0 in /usr/local/lib/python3.6/dist-packages (from tensorflow==1.13.1->solaris==0.2.0) (1.1.0)\n",
            "Requirement already satisfied: pillow>=4.1.1 in /usr/local/lib/python3.6/dist-packages (from torchvision>=0.3.0->solaris==0.2.0) (6.2.2)\n",
            "Requirement already satisfied: chardet<4,>=3.0.2 in /usr/local/lib/python3.6/dist-packages (from requests>=2.22.0->solaris==0.2.0) (3.0.4)\n",
            "Requirement already satisfied: certifi>=2017.4.17 in /usr/local/lib/python3.6/dist-packages (from requests>=2.22.0->solaris==0.2.0) (2019.11.28)\n",
            "Requirement already satisfied: idna<3,>=2.5 in /usr/local/lib/python3.6/dist-packages (from requests>=2.22.0->solaris==0.2.0) (2.8)\n",
            "Requirement already satisfied: snuggs>=1.4.1 in /usr/local/lib/python3.6/dist-packages (from rasterio>=1.0.18->solaris==0.2.0) (1.4.7)\n",
            "Requirement already satisfied: attrs in /usr/local/lib/python3.6/dist-packages (from rasterio>=1.0.18->solaris==0.2.0) (19.3.0)\n",
            "Requirement already satisfied: click-plugins in /usr/local/lib/python3.6/dist-packages (from rasterio>=1.0.18->solaris==0.2.0) (1.1.1)\n",
            "Requirement already satisfied: cligj>=0.5 in /usr/local/lib/python3.6/dist-packages (from rasterio>=1.0.18->solaris==0.2.0) (0.5.0)\n",
            "Requirement already satisfied: decorator>=4.3.0 in /usr/local/lib/python3.6/dist-packages (from networkx>=2.3->solaris==0.2.0) (4.4.1)\n",
            "Requirement already satisfied: kiwisolver>=1.0.1 in /usr/local/lib/python3.6/dist-packages (from matplotlib>=3.1.1->solaris==0.2.0) (1.1.0)\n",
            "Requirement already satisfied: pyparsing!=2.0.4,!=2.1.2,!=2.1.6,>=2.0.1 in /usr/local/lib/python3.6/dist-packages (from matplotlib>=3.1.1->solaris==0.2.0) (2.4.6)\n",
            "Requirement already satisfied: cycler>=0.10 in /usr/local/lib/python3.6/dist-packages (from matplotlib>=3.1.1->solaris==0.2.0) (0.10.0)\n",
            "Requirement already satisfied: imageio>=2.3.0 in /usr/local/lib/python3.6/dist-packages (from scikit-image>=0.15.0->solaris==0.2.0) (2.4.1)\n",
            "Requirement already satisfied: PyWavelets>=0.4.0 in /usr/local/lib/python3.6/dist-packages (from scikit-image>=0.15.0->solaris==0.2.0) (1.1.1)\n",
            "Requirement already satisfied: pyproj>=2.2.0 in /usr/local/lib/python3.6/dist-packages (from geopandas>=0.4.1->solaris==0.2.0) (2.5.0)\n",
            "Requirement already satisfied: munch in /usr/local/lib/python3.6/dist-packages (from fiona>=1.8.6->solaris==0.2.0) (2.5.0)\n",
            "Requirement already satisfied: setuptools in /usr/local/lib/python3.6/dist-packages (from protobuf>=3.6.1->tensorflow==1.13.1->solaris==0.2.0) (45.1.0)\n",
            "Requirement already satisfied: mock>=2.0.0 in /usr/local/lib/python3.6/dist-packages (from tensorflow-estimator<1.14.0rc0,>=1.13.0->tensorflow==1.13.1->solaris==0.2.0) (4.0.1)\n",
            "Requirement already satisfied: werkzeug>=0.11.15 in /usr/local/lib/python3.6/dist-packages (from tensorboard<1.14.0,>=1.13.0->tensorflow==1.13.1->solaris==0.2.0) (1.0.0)\n",
            "Requirement already satisfied: markdown>=2.6.8 in /usr/local/lib/python3.6/dist-packages (from tensorboard<1.14.0,>=1.13.0->tensorflow==1.13.1->solaris==0.2.0) (3.2.1)\n",
            "Requirement already satisfied: h5py in /usr/local/lib/python3.6/dist-packages (from keras-applications>=1.0.6->tensorflow==1.13.1->solaris==0.2.0) (2.8.0)\n"
          ],
          "name": "stdout"
        }
      ]
    },
    {
      "cell_type": "code",
      "metadata": {
        "id": "dNcLkYBzfGr_",
        "colab_type": "code",
        "colab": {}
      },
      "source": [
        "# Imports\n",
        "from matplotlib import pyplot as plt\n",
        "import numpy as np\n",
        "import pandas as pd\n",
        "from pprint import pprint\n",
        "import solaris as sol\n",
        "from pathlib import Path\n",
        "import rasterio\n",
        "from rasterio.windows import Window\n",
        "import geopandas as gpd\n",
        "from pystac import (Catalog, CatalogType, Item, Asset, LabelItem, Collection)\n",
        "from rasterio.transform import from_bounds\n",
        "from shapely.geometry import Polygon\n",
        "from shapely.ops import cascaded_union\n",
        "from rio_tiler import main as rt_main\n",
        "import skimage\n",
        "from tqdm import tqdm\n",
        "import os\n",
        "os.environ[\"CURL_CA_BUNDLE\"] = \"/etc/ssl/certs/ca-certificates.crt\" #Q! chưa rõ để làm gì, dường như liên quan đến đặt môi trường để chạy được requests khi gọi lib requests https://stackoverflow.com/questions/48391750/disable-python-requests-ssl-validation-for-an-imported-module\n",
        "\n",
        "# We have to add this wrkaround for stackio:\n",
        "# (https://pystac.readthedocs.io/en/latest/concepts.html#using-stac-io)\n",
        "from urllib.parse import urlparse\n",
        "import requests\n",
        "from pystac import STAC_IO\n",
        "def my_read_method(uri):\n",
        "    parsed = urlparse(uri)\n",
        "    if parsed.scheme.startswith('http'):\n",
        "        return requests.get(uri).text\n",
        "    else:\n",
        "        return STAC_IO.default_read_text_method(uri)\n",
        "STAC_IO.read_text_method = my_read_method"
      ],
      "execution_count": 0,
      "outputs": []
    },
    {
      "cell_type": "code",
      "metadata": {
        "id": "oQq3p-0_Vw0s",
        "colab_type": "code",
        "colab": {}
      },
      "source": [
        "!pip install rasterio\n",
        "# Imports\n",
        "from matplotlib import pyplot as plt\n",
        "import numpy as np\n",
        "import pandas as pd\n",
        "from pprint import pprint\n",
        "import solaris as sol\n",
        "from pathlib import Path\n",
        "import rasterio\n",
        "from rasterio.windows import Window\n",
        "import geopandas as gpd\n",
        "from pystac import (Catalog, CatalogType, Item, Asset, LabelItem, Collection)\n",
        "from rasterio.transform import from_bounds\n",
        "from shapely.geometry import Polygon\n",
        "from shapely.ops import cascaded_union\n",
        "from rio_tiler import main as rt_main\n",
        "import skimage\n",
        "from tqdm import tqdm\n",
        "import os\n",
        "os.environ[\"CURL_CA_BUNDLE\"] = \"/etc/ssl/certs/ca-certificates.crt\" #Q! chưa rõ để làm gì, dường như liên quan đến đặt môi trường để chạy được requests khi gọi lib requests https://stackoverflow.com/questions/48391750/disable-python-requests-ssl-validation-for-an-imported-module\n",
        "\n",
        "# We have to add this wrkaround for stackio:\n",
        "# (https://pystac.readthedocs.io/en/latest/concepts.html#using-stac-io)\n",
        "from urllib.parse import urlparse\n",
        "import requests\n",
        "from pystac import STAC_IO\n",
        "def my_read_method(uri):\n",
        "    parsed = urlparse(uri)\n",
        "    if parsed.scheme.startswith('http'):\n",
        "        return requests.get(uri).text\n",
        "    else:\n",
        "        return STAC_IO.default_read_text_method(uri)\n",
        "STAC_IO.read_text_method = my_read_method"
      ],
      "execution_count": 0,
      "outputs": []
    },
    {
      "cell_type": "code",
      "metadata": {
        "id": "ofp0Dj32fUy-",
        "colab_type": "code",
        "outputId": "d619923f-febe-4fff-950a-117aaa9837d4",
        "colab": {
          "base_uri": "https://localhost:8080/",
          "height": 34
        }
      },
      "source": [
        "# Folder Setup\n",
        "from google.colab import drive\n",
        "drive.mount('/content/drive')\n",
        "\n",
        "data_dir = Path('drive/My Drive/open_cities_compet/data/')\n",
        "data_dir.mkdir(exist_ok=True)\n",
        "\n",
        "img_path = data_dir/'train/images-256-2'\n",
        "mask_path = data_dir/'train/masks-256-2'\n",
        "img_path.mkdir(exist_ok=True)\n",
        "mask_path.mkdir(exist_ok=True)"
      ],
      "execution_count": 19,
      "outputs": [
        {
          "output_type": "stream",
          "text": [
            "Drive already mounted at /content/drive; to attempt to forcibly remount, call drive.mount(\"/content/drive\", force_remount=True).\n"
          ],
          "name": "stdout"
        }
      ]
    },
    {
      "cell_type": "code",
      "metadata": {
        "id": "RT7Y5MSifYLF",
        "colab_type": "code",
        "colab": {}
      },
      "source": [
        "#Mounted by hand --> khong can mount lại nữa\n",
        "# from google.colab import drive\n",
        "# drive.mount('/content/drive')"
      ],
      "execution_count": 0,
      "outputs": []
    },
    {
      "cell_type": "markdown",
      "metadata": {
        "id": "HZ8gv3vXfeTG",
        "colab_type": "text"
      },
      "source": [
        "# Loading the data"
      ]
    },
    {
      "cell_type": "code",
      "metadata": {
        "id": "MmnB0suzg3l2",
        "colab_type": "code",
        "colab": {}
      },
      "source": [
        "def save_tile_img(tif_url, xyz, tile_size, save_path='', prefix='', display=False):\n",
        "  x,y,z = xyz\n",
        "  tile, mask = rt_main.tile(tif_url, x,y,z, tilesize=tile_size)\n",
        "  if display: \n",
        "    plt.imshow(np.moveaxis(tile,0,2))\n",
        "    plt.show()\n",
        "  skimage.io.imsave(f'{save_path}/{prefix}{z}_{x}_{y}.png',np.moveaxis(tile,0,2), check_contrast=False) \n",
        "\n",
        "def save_tile_mask(labels_poly, tile_poly, xyz, tile_size, save_path='', prefix='', display=False, greyscale=True):\n",
        "  x,y,z = xyz\n",
        "  tfm = from_bounds(*tile_poly.bounds, tile_size, tile_size) \n",
        "  \n",
        "  cropped_polys = [poly for poly in labels_poly if poly.intersects(tile_poly)]\n",
        "  cropped_polys_gdf = gpd.GeoDataFrame(geometry=cropped_polys, crs='epsg:4326')\n",
        "  \n",
        "  fbc_mask = sol.vector.mask.df_to_px_mask(df=cropped_polys_gdf,\n",
        "                                         channels=['footprint', 'boundary'], # 'contact'],\n",
        "                                         affine_obj=tfm, shape=(tile_size,tile_size),\n",
        "                                         boundary_width=5, boundary_type='inner', contact_spacing=5, meters=True)\n",
        "  \n",
        "  if display: plt.imshow(fbc_mask); plt.show()\n",
        "  \n",
        "  if greyscale:\n",
        "    skimage.io.imsave(f'{save_path}/{prefix}{z}_{x}_{y}_mask.png',fbc_mask[:,:,0], check_contrast=False) \n",
        "  else:\n",
        "    skimage.io.imsave(f'{save_path}/{prefix}{z}_{x}_{y}_mask.png',fbc_mask, check_contrast=False) \n",
        "\n",
        "def save_area_id_images(area = 'acc', img_id = 'ca041a', label_id='ca041a-labels', zoom_level = 19, tile_size = 256):\n",
        "\n",
        "  # The item\n",
        "  one_item = cols[area].get_item(id=img_id)\n",
        "\n",
        "  # Load labels shapefile\n",
        "  lab = cols[area].get_item(id=label_id)\n",
        "  gdf = gpd.read_file(lab.make_asset_hrefs_absolute().assets['labels'].href)\n",
        "  # get the geometries from the geodataframe\n",
        "  all_polys = gdf.geometry\n",
        "\n",
        "  # Get outlines as polygons\n",
        "  polygon_geom = Polygon(one_item.to_dict()['geometry']['coordinates'][0])\n",
        "  polygon = gpd.GeoDataFrame(index=[0], crs=gdf.crs, geometry=[polygon_geom])   \n",
        "\n",
        "  # Tile at zoom_level\n",
        "  polygon['geometry'].to_file(img_id+'.geojson', driver='GeoJSON')\n",
        "  !cat {img_id}.geojson | supermercado burn {zoom_level} | mercantile shapes | fio collect > {img_id}{zoom_level}tiles.geojson\n",
        "\n",
        "  # Load tiles\n",
        "  tiles = gpd.read_file(f'{img_id}{zoom_level}tiles.geojson')\n",
        "\n",
        "  # Add a convenience column\n",
        "  tiles['xyz'] = tiles.id.apply(lambda x: x.lstrip('(,)').rstrip('(,)').split(','))\n",
        "  tiles['xyz'] = [[int(q) for q in p] for p in tiles['xyz']]\n",
        "\n",
        "  # IMG URL\n",
        "  tif_url = one_item.assets['image'].href\n",
        "\n",
        "  # Sometimes it's just ./id.tif - add full path (should maybe use make_asset_hrefs_absolute instead!!)\n",
        "  if tif_url.startswith(\"./\"):\n",
        "    tif_url = '/'.join(one_item.to_dict()['links'][1]['href'].split(\"/\")[:-1])+tif_url[1:]\n",
        "\n",
        "  print(\"TIF URL:\", tif_url)\n",
        "\n",
        "  print(\"Number of tiles:\", len(tiles))\n",
        "\n",
        "  # Loop through tiles, downloading and saving\n",
        "  for idx in range(len(tiles)):\n",
        "    tile, mask = rt_main.tile(tif_url, *tiles.iloc[idx]['xyz'], tilesize=tile_size)\n",
        "\n",
        "    tile_poly = tiles.iloc[idx]['geometry']\n",
        "\n",
        "    # get affine transformation matrix for this tile using rasterio.transform.from_bounds: https://rasterio.readthedocs.io/en/stable/api/rasterio.transform.html#rasterio.transform.from_bounds\n",
        "    tfm = from_bounds(*tile_poly.bounds, tile_size, tile_size) \n",
        "\n",
        "    # crop geometries to what overlaps our tile polygon bounds\n",
        "    cropped_polys = [poly for poly in all_polys if poly.intersects(tile_poly)]\n",
        "    cropped_polys_gdf = gpd.GeoDataFrame(geometry=cropped_polys, crs='epsg:4326')\n",
        "\n",
        "    # burn a footprint/boundary/contact 3-channel mask with solaris: https://solaris.readthedocs.io/en/latest/tutorials/notebooks/api_masks_tutorial.html\n",
        "    fbc_mask = sol.vector.mask.df_to_px_mask(df=cropped_polys_gdf,\n",
        "                                            channels=['footprint', 'boundary'],# 'contact'],\n",
        "                                            affine_obj=tfm, shape=(tile_size,tile_size),\n",
        "                                            boundary_width=5, boundary_type='inner', contact_spacing=5, meters=True)\n",
        "\n",
        "    save_tile_img(tif_url, tiles.iloc[idx]['xyz'], tile_size, save_path=img_path, prefix=f'{area}_{img_id}_{idx}_', display=False)\n",
        "    save_tile_mask(all_polys, tile_poly, tiles.iloc[idx]['xyz'], tile_size, save_path=mask_path,prefix=f'{area}_{img_id}_{idx}_', display=False)\n",
        "    print(\"Saved\", f'{area}_{img_id}_{idx}_')"
      ],
      "execution_count": 0,
      "outputs": []
    },
    {
      "cell_type": "code",
      "metadata": {
        "id": "uzC-3IocfdWZ",
        "colab_type": "code",
        "colab": {}
      },
      "source": [
        "# load our training and test catalogs\n",
        "train1_cat = Catalog.from_file('https://drivendata-competition-building-segmentation.s3-us-west-1.amazonaws.com/train_tier_1/catalog.json')\n",
        "train2_cat = Catalog.from_file('https://drivendata-competition-building-segmentation.s3-us-west-1.amazonaws.com/train_tier_2/catalog.json')\n",
        "test_cat = Catalog.from_file('https://drivendata-competition-building-segmentation.s3-us-west-1.amazonaws.com/test/catalog.json')\n"
      ],
      "execution_count": 0,
      "outputs": []
    },
    {
      "cell_type": "code",
      "metadata": {
        "id": "bk-mxDq0gtuN",
        "colab_type": "code",
        "outputId": "b9f6939c-4bd8-4a39-c380-3e102e504d3d",
        "colab": {
          "base_uri": "https://localhost:8080/",
          "height": 54
        }
      },
      "source": [
        "# Get a list of the possible areas ('scenes) and ids\n",
        "cols = {cols.id:cols for cols in train2_cat.get_children()}\n",
        "areas = []\n",
        "for c in cols:\n",
        "  itms = [x for x in cols[c].get_all_items()]\n",
        "  for i, id in enumerate(itms):\n",
        "    if i % 2 == 0 and i+1 < len(itms):\n",
        "      areas.append((c, itms[i].id, itms[i+1].id))\n",
        "print(areas)"
      ],
      "execution_count": 20,
      "outputs": [
        {
          "output_type": "stream",
          "text": [
            "[('dar', '8737a8', '8737a8-labels'), ('dar', 'e14d1d', 'e14d1d-labels'), ('dar', '8d7dd4', '8d7dd4-labels'), ('dar', '9870ba', '9870ba-labels'), ('dar', '3b3e53', '3b3e53-labels'), ('dar', '0ccd08', '0ccd08-labels'), ('dar', 'ab32c9', 'ab32c9-labels'), ('dar', '94a004', '94a004-labels'), ('dar', 'fb4c1a', 'fb4c1a-labels'), ('dar', 'ca3445', 'ca3445-labels'), ('dar', '82a1f3', '82a1f3-labels'), ('dar', 'cf83de', 'cf83de-labels'), ('dar', '97ce35', '97ce35-labels'), ('dar', '24a7d8', '24a7d8-labels'), ('dar', 'b8faa3', 'b8faa3-labels'), ('dar', '63c3f9', '63c3f9-labels'), ('dar', 'c533fa', 'c533fa-labels'), ('dar', '5fe6fb', '5fe6fb-labels'), ('dar', '385a0e', '385a0e-labels'), ('dar', '759e34', '759e34-labels'), ('dar', 'ef8f27', 'ef8f27-labels'), ('dar', '1d8af6', '1d8af6-labels'), ('dar', 'd2f2f4', 'd2f2f4-labels'), ('dar', 'eadfa3', 'eadfa3-labels'), ('dar', 'cbf72d', 'cbf72d-labels'), ('dar', '5fadcd', '5fadcd-labels'), ('dar', '56e713', '56e713-labels'), ('dar', '219237', '219237-labels'), ('dar', '109874', '109874-labels'), ('dar', 'f9d120', 'f9d120-labels'), ('dar', '541eff', '541eff-labels'), ('gao', '4f38e1', '4f38e1-labels'), ('gao', '048ffb', '048ffb-labels'), ('mah', '71e6c2', '71e6c2-labels'), ('mah', 'bd129c', 'bd129c-labels'), ('mah', '240168', '240168-labels'), ('mah', '5fe2d3', '5fe2d3-labels'), ('kin', '10d200', '10d200-labels'), ('kin', '255028', '255028-labels'), ('nia', '982a1f', '982a1f-labels'), ('nia', 'b80615', 'b80615-labels')]\n"
          ],
          "name": "stdout"
        }
      ]
    },
    {
      "cell_type": "code",
      "metadata": {
        "id": "mB6bY5dphWE7",
        "colab_type": "code",
        "outputId": "c5add432-79ed-4299-a01c-b3ee06aba99f",
        "colab": {
          "base_uri": "https://localhost:8080/",
          "height": 54
        }
      },
      "source": [
        "# Get a list of the possible areas ('scenes) and ids\n",
        "cols2 = {cols.id:cols for cols in train2_cat.get_children()}\n",
        "areas2 = []\n",
        "for c in cols2:\n",
        "  itms = [x for x in cols2[c].get_all_items()]\n",
        "  for i, id in enumerate(itms):\n",
        "    if i % 2 == 0 and i+1 < len(itms):\n",
        "      areas2.append((c, itms[i].id, itms[i+1].id))\n",
        "print(areas2)"
      ],
      "execution_count": 12,
      "outputs": [
        {
          "output_type": "stream",
          "text": [
            "[('dar', '8737a8', '8737a8-labels'), ('dar', 'e14d1d', 'e14d1d-labels'), ('dar', '8d7dd4', '8d7dd4-labels'), ('dar', '9870ba', '9870ba-labels'), ('dar', '3b3e53', '3b3e53-labels'), ('dar', '0ccd08', '0ccd08-labels'), ('dar', 'ab32c9', 'ab32c9-labels'), ('dar', '94a004', '94a004-labels'), ('dar', 'fb4c1a', 'fb4c1a-labels'), ('dar', 'ca3445', 'ca3445-labels'), ('dar', '82a1f3', '82a1f3-labels'), ('dar', 'cf83de', 'cf83de-labels'), ('dar', '97ce35', '97ce35-labels'), ('dar', '24a7d8', '24a7d8-labels'), ('dar', 'b8faa3', 'b8faa3-labels'), ('dar', '63c3f9', '63c3f9-labels'), ('dar', 'c533fa', 'c533fa-labels'), ('dar', '5fe6fb', '5fe6fb-labels'), ('dar', '385a0e', '385a0e-labels'), ('dar', '759e34', '759e34-labels'), ('dar', 'ef8f27', 'ef8f27-labels'), ('dar', '1d8af6', '1d8af6-labels'), ('dar', 'd2f2f4', 'd2f2f4-labels'), ('dar', 'eadfa3', 'eadfa3-labels'), ('dar', 'cbf72d', 'cbf72d-labels'), ('dar', '5fadcd', '5fadcd-labels'), ('dar', '56e713', '56e713-labels'), ('dar', '219237', '219237-labels'), ('dar', '109874', '109874-labels'), ('dar', 'f9d120', 'f9d120-labels'), ('dar', '541eff', '541eff-labels'), ('gao', '4f38e1', '4f38e1-labels'), ('gao', '048ffb', '048ffb-labels'), ('mah', '71e6c2', '71e6c2-labels'), ('mah', 'bd129c', 'bd129c-labels'), ('mah', '240168', '240168-labels'), ('mah', '5fe2d3', '5fe2d3-labels'), ('kin', '10d200', '10d200-labels'), ('kin', '255028', '255028-labels'), ('nia', '982a1f', '982a1f-labels'), ('nia', 'b80615', 'b80615-labels')]\n"
          ],
          "name": "stdout"
        }
      ]
    },
    {
      "cell_type": "code",
      "metadata": {
        "id": "gmzC1q9ZizIm",
        "colab_type": "code",
        "colab": {}
      },
      "source": [
        "# Get a list of the possible areas ('scenes) and ids\n",
        "# cols3 = {cols.id:cols for cols in test_cat.get_children()}\n",
        "# areas3 = []\n",
        "# for c in cols2:\n",
        "#   itms = [x for x in cols[c].get_all_items()]\n",
        "#   for i, id in enumerate(itms):\n",
        "#     if i % 2 == 0 and i+1 < len(itms):\n",
        "#       areas2.append((c, itms[i].id, itms[i+1].id))\n",
        "# print(areas2)"
      ],
      "execution_count": 0,
      "outputs": []
    },
    {
      "cell_type": "code",
      "metadata": {
        "id": "0beqp7tn3qqt",
        "colab_type": "code",
        "colab": {}
      },
      "source": [
        "import glob\n",
        "im_folder = 'drive/My Drive/open_cities_compet/data/train/images-256/*.png'\n",
        "ims = glob.glob( im_folder ) "
      ],
      "execution_count": 0,
      "outputs": []
    },
    {
      "cell_type": "code",
      "metadata": {
        "id": "2sBqURYGy31v",
        "colab_type": "code",
        "colab": {}
      },
      "source": [
        "ims = glob.glob( im_folder ) "
      ],
      "execution_count": 0,
      "outputs": []
    },
    {
      "cell_type": "code",
      "metadata": {
        "id": "ZhxlmCfZ0M4e",
        "colab_type": "code",
        "colab": {
          "base_uri": "https://localhost:8080/",
          "height": 34
        },
        "outputId": "a8b871eb-6c67-457f-c55f-85e2d9795c14"
      },
      "source": [
        "len(ims)"
      ],
      "execution_count": 18,
      "outputs": [
        {
          "output_type": "execute_result",
          "data": {
            "text/plain": [
              "23861"
            ]
          },
          "metadata": {
            "tags": []
          },
          "execution_count": 18
        }
      ]
    },
    {
      "cell_type": "code",
      "metadata": {
        "id": "rMQI22KzMkXP",
        "colab_type": "code",
        "colab": {}
      },
      "source": [
        "completed_task = [('acc', '665946', '665946-labels'), \n",
        "                  ('acc', 'a42435', 'a42435-labels'), \n",
        "                  ('acc', 'ca041a', 'ca041a-labels'),\n",
        "                  ('acc', 'd41d81', 'd41d81-labels'),\n",
        "                  ('mon', '401175', '401175-labels'),\n",
        "                  ('mon', '493701', '493701-labels'),\n",
        "                  ('mon', '207cc7', '207cc7-labels'),\n",
        "                  ('mon', 'f15272', 'f15272-labels'),\n",
        "                  ('ptn', 'abe1a3', 'abe1a3-labels'),\n",
        "                  ('ptn', 'f49f31', 'f49f31-labels'),\n",
        "                  ('kam', '4e7c7f', '4e7c7f-labels'),\n",
        "                  ('dar', 'a017f9', 'a017f9-labels'),\n",
        "                  ('dar', 'b15fce', 'b15fce-labels'),\n",
        "                  ('dar', '353093', '353093-labels'), \n",
        "                  ('dar', 'f883a0', 'f883a0-labels'), #bỏ qua vì chạy bị lỗi\n",
        "                  ('dar', '42f235', '42f235-labels') # bỏ qua vì chạy lỗi\n",
        "                , ('dar', '0a4c40', '0a4c40-labels')\n",
        "                , ('znz', '33cae6', '33cae6-labels'),\n",
        "                  ('znz', '3b20d4', '3b20d4-labels'),\n",
        "                  ('znz', '076995', '076995-labels'),\n",
        "                  ('znz', '75cdfa', '75cdfa-labels'),\n",
        "                  ('znz', '9b8638', '9b8638-labels'),\n",
        "                  ('znz', '06f252', '06f252-labels'), \n",
        "                  ('znz', 'c7415c', 'c7415c-labels'),\n",
        "                  ('znz', 'aee7fd', 'aee7fd-labels') #chưa xong nhưng đã xử lý đk khá nhiều\n",
        "                , ('znz', '3f8360', '3f8360-labels'),\n",
        "                  ('znz', '425403', '425403-labels')\n",
        "                  ]"
      ],
      "execution_count": 0,
      "outputs": []
    },
    {
      "cell_type": "code",
      "metadata": {
        "id": "HJK3FPwg0kZw",
        "colab_type": "code",
        "colab": {}
      },
      "source": [
        "completed_task = [('dar', '8737a8', '8737a8-labels'),\n",
        " ('dar', 'e14d1d', 'e14d1d-labels'),\n",
        " ('dar', '8d7dd4', '8d7dd4-labels'),\n",
        " ('dar', '9870ba', '9870ba-labels'),\n",
        " ('dar', '3b3e53', '3b3e53-labels') ]"
      ],
      "execution_count": 0,
      "outputs": []
    },
    {
      "cell_type": "code",
      "metadata": {
        "id": "UI4FXgexMsRH",
        "colab_type": "code",
        "outputId": "bd31a528-b11f-429c-a0fb-73de9f2cdeee",
        "colab": {
          "base_uri": "https://localhost:8080/",
          "height": 728
        }
      },
      "source": [
        "areas"
      ],
      "execution_count": 21,
      "outputs": [
        {
          "output_type": "execute_result",
          "data": {
            "text/plain": [
              "[('dar', '8737a8', '8737a8-labels'),\n",
              " ('dar', 'e14d1d', 'e14d1d-labels'),\n",
              " ('dar', '8d7dd4', '8d7dd4-labels'),\n",
              " ('dar', '9870ba', '9870ba-labels'),\n",
              " ('dar', '3b3e53', '3b3e53-labels'),\n",
              " ('dar', '0ccd08', '0ccd08-labels'),\n",
              " ('dar', 'ab32c9', 'ab32c9-labels'),\n",
              " ('dar', '94a004', '94a004-labels'),\n",
              " ('dar', 'fb4c1a', 'fb4c1a-labels'),\n",
              " ('dar', 'ca3445', 'ca3445-labels'),\n",
              " ('dar', '82a1f3', '82a1f3-labels'),\n",
              " ('dar', 'cf83de', 'cf83de-labels'),\n",
              " ('dar', '97ce35', '97ce35-labels'),\n",
              " ('dar', '24a7d8', '24a7d8-labels'),\n",
              " ('dar', 'b8faa3', 'b8faa3-labels'),\n",
              " ('dar', '63c3f9', '63c3f9-labels'),\n",
              " ('dar', 'c533fa', 'c533fa-labels'),\n",
              " ('dar', '5fe6fb', '5fe6fb-labels'),\n",
              " ('dar', '385a0e', '385a0e-labels'),\n",
              " ('dar', '759e34', '759e34-labels'),\n",
              " ('dar', 'ef8f27', 'ef8f27-labels'),\n",
              " ('dar', '1d8af6', '1d8af6-labels'),\n",
              " ('dar', 'd2f2f4', 'd2f2f4-labels'),\n",
              " ('dar', 'eadfa3', 'eadfa3-labels'),\n",
              " ('dar', 'cbf72d', 'cbf72d-labels'),\n",
              " ('dar', '5fadcd', '5fadcd-labels'),\n",
              " ('dar', '56e713', '56e713-labels'),\n",
              " ('dar', '219237', '219237-labels'),\n",
              " ('dar', '109874', '109874-labels'),\n",
              " ('dar', 'f9d120', 'f9d120-labels'),\n",
              " ('dar', '541eff', '541eff-labels'),\n",
              " ('gao', '4f38e1', '4f38e1-labels'),\n",
              " ('gao', '048ffb', '048ffb-labels'),\n",
              " ('mah', '71e6c2', '71e6c2-labels'),\n",
              " ('mah', 'bd129c', 'bd129c-labels'),\n",
              " ('mah', '240168', '240168-labels'),\n",
              " ('mah', '5fe2d3', '5fe2d3-labels'),\n",
              " ('kin', '10d200', '10d200-labels'),\n",
              " ('kin', '255028', '255028-labels'),\n",
              " ('nia', '982a1f', '982a1f-labels'),\n",
              " ('nia', 'b80615', 'b80615-labels')]"
            ]
          },
          "metadata": {
            "tags": []
          },
          "execution_count": 21
        }
      ]
    },
    {
      "cell_type": "code",
      "metadata": {
        "id": "Gs9Om7QPguIU",
        "colab_type": "code",
        "outputId": "e3069b15-5298-4579-9525-b6b0f793c0dd",
        "colab": {
          "base_uri": "https://localhost:8080/",
          "height": 1000
        }
      },
      "source": [
        "# You could fetch all the data with:\n",
        "import glob\n",
        "im_folder = 'drive/My Drive/open_cities_compet/data/train/images-256-2/*.png'\n",
        "\n",
        "for a in [a for a in areas[5:] if a not in set( [ i[62:68] for i in ims] ) ] :\n",
        "  if a not in set( [ i[62:68] for i in ims] ):\n",
        "    save_area_id_images(area = a[0], img_id = a[1], label_id=a[2], zoom_level = 19, tile_size = 256)\n",
        "    completed_task.append(a)\n",
        "    print('-'*10+'completed'+'-'*10,'\\n', completed_task, '\\n'+'-'*25)\n",
        "  ims = glob.glob( im_folder ) "
      ],
      "execution_count": 0,
      "outputs": [
        {
          "output_type": "stream",
          "text": [
            "TIF URL: https://drivendata-competition-building-segmentation.s3-us-west-1.amazonaws.com/train_tier_2/dar/0ccd08/0ccd08.tif\n",
            "Number of tiles: 1144\n",
            "Saved dar_0ccd08_0_\n",
            "Saved dar_0ccd08_1_\n",
            "Saved dar_0ccd08_2_\n",
            "Saved dar_0ccd08_3_\n",
            "Saved dar_0ccd08_4_\n",
            "Saved dar_0ccd08_5_\n",
            "Saved dar_0ccd08_6_\n",
            "Saved dar_0ccd08_7_\n",
            "Saved dar_0ccd08_8_\n",
            "Saved dar_0ccd08_9_\n",
            "Saved dar_0ccd08_10_\n",
            "Saved dar_0ccd08_11_\n",
            "Saved dar_0ccd08_12_\n",
            "Saved dar_0ccd08_13_\n",
            "Saved dar_0ccd08_14_\n",
            "Saved dar_0ccd08_15_\n",
            "Saved dar_0ccd08_16_\n",
            "Saved dar_0ccd08_17_\n",
            "Saved dar_0ccd08_18_\n",
            "Saved dar_0ccd08_19_\n",
            "Saved dar_0ccd08_20_\n",
            "Saved dar_0ccd08_21_\n",
            "Saved dar_0ccd08_22_\n",
            "Saved dar_0ccd08_23_\n",
            "Saved dar_0ccd08_24_\n",
            "Saved dar_0ccd08_25_\n",
            "Saved dar_0ccd08_26_\n",
            "Saved dar_0ccd08_27_\n",
            "Saved dar_0ccd08_28_\n",
            "Saved dar_0ccd08_29_\n",
            "Saved dar_0ccd08_30_\n",
            "Saved dar_0ccd08_31_\n",
            "Saved dar_0ccd08_32_\n",
            "Saved dar_0ccd08_33_\n",
            "Saved dar_0ccd08_34_\n",
            "Saved dar_0ccd08_35_\n",
            "Saved dar_0ccd08_36_\n",
            "Saved dar_0ccd08_37_\n",
            "Saved dar_0ccd08_38_\n",
            "Saved dar_0ccd08_39_\n",
            "Saved dar_0ccd08_40_\n",
            "Saved dar_0ccd08_41_\n",
            "Saved dar_0ccd08_42_\n",
            "Saved dar_0ccd08_43_\n",
            "Saved dar_0ccd08_44_\n",
            "Saved dar_0ccd08_45_\n",
            "Saved dar_0ccd08_46_\n",
            "Saved dar_0ccd08_47_\n",
            "Saved dar_0ccd08_48_\n",
            "Saved dar_0ccd08_49_\n",
            "Saved dar_0ccd08_50_\n",
            "Saved dar_0ccd08_51_\n",
            "Saved dar_0ccd08_52_\n",
            "Saved dar_0ccd08_53_\n",
            "Saved dar_0ccd08_54_\n",
            "Saved dar_0ccd08_55_\n",
            "Saved dar_0ccd08_56_\n",
            "Saved dar_0ccd08_57_\n",
            "Saved dar_0ccd08_58_\n",
            "Saved dar_0ccd08_59_\n",
            "Saved dar_0ccd08_60_\n",
            "Saved dar_0ccd08_61_\n",
            "Saved dar_0ccd08_62_\n",
            "Saved dar_0ccd08_63_\n",
            "Saved dar_0ccd08_64_\n",
            "Saved dar_0ccd08_65_\n",
            "Saved dar_0ccd08_66_\n",
            "Saved dar_0ccd08_67_\n",
            "Saved dar_0ccd08_68_\n",
            "Saved dar_0ccd08_69_\n",
            "Saved dar_0ccd08_70_\n",
            "Saved dar_0ccd08_71_\n",
            "Saved dar_0ccd08_72_\n",
            "Saved dar_0ccd08_73_\n",
            "Saved dar_0ccd08_74_\n",
            "Saved dar_0ccd08_75_\n",
            "Saved dar_0ccd08_76_\n",
            "Saved dar_0ccd08_77_\n",
            "Saved dar_0ccd08_78_\n",
            "Saved dar_0ccd08_79_\n",
            "Saved dar_0ccd08_80_\n",
            "Saved dar_0ccd08_81_\n",
            "Saved dar_0ccd08_82_\n",
            "Saved dar_0ccd08_83_\n",
            "Saved dar_0ccd08_84_\n",
            "Saved dar_0ccd08_85_\n",
            "Saved dar_0ccd08_86_\n",
            "Saved dar_0ccd08_87_\n",
            "Saved dar_0ccd08_88_\n",
            "Saved dar_0ccd08_89_\n",
            "Saved dar_0ccd08_90_\n",
            "Saved dar_0ccd08_91_\n",
            "Saved dar_0ccd08_92_\n",
            "Saved dar_0ccd08_93_\n",
            "Saved dar_0ccd08_94_\n",
            "Saved dar_0ccd08_95_\n",
            "Saved dar_0ccd08_96_\n",
            "Saved dar_0ccd08_97_\n",
            "Saved dar_0ccd08_98_\n",
            "Saved dar_0ccd08_99_\n",
            "Saved dar_0ccd08_100_\n",
            "Saved dar_0ccd08_101_\n",
            "Saved dar_0ccd08_102_\n",
            "Saved dar_0ccd08_103_\n",
            "Saved dar_0ccd08_104_\n",
            "Saved dar_0ccd08_105_\n",
            "Saved dar_0ccd08_106_\n",
            "Saved dar_0ccd08_107_\n",
            "Saved dar_0ccd08_108_\n",
            "Saved dar_0ccd08_109_\n",
            "Saved dar_0ccd08_110_\n",
            "Saved dar_0ccd08_111_\n",
            "Saved dar_0ccd08_112_\n",
            "Saved dar_0ccd08_113_\n",
            "Saved dar_0ccd08_114_\n",
            "Saved dar_0ccd08_115_\n",
            "Saved dar_0ccd08_116_\n",
            "Saved dar_0ccd08_117_\n",
            "Saved dar_0ccd08_118_\n",
            "Saved dar_0ccd08_119_\n",
            "Saved dar_0ccd08_120_\n",
            "Saved dar_0ccd08_121_\n",
            "Saved dar_0ccd08_122_\n",
            "Saved dar_0ccd08_123_\n",
            "Saved dar_0ccd08_124_\n",
            "Saved dar_0ccd08_125_\n",
            "Saved dar_0ccd08_126_\n",
            "Saved dar_0ccd08_127_\n",
            "Saved dar_0ccd08_128_\n",
            "Saved dar_0ccd08_129_\n",
            "Saved dar_0ccd08_130_\n",
            "Saved dar_0ccd08_131_\n",
            "Saved dar_0ccd08_132_\n",
            "Saved dar_0ccd08_133_\n",
            "Saved dar_0ccd08_134_\n",
            "Saved dar_0ccd08_135_\n",
            "Saved dar_0ccd08_136_\n",
            "Saved dar_0ccd08_137_\n",
            "Saved dar_0ccd08_138_\n",
            "Saved dar_0ccd08_139_\n",
            "Saved dar_0ccd08_140_\n",
            "Saved dar_0ccd08_141_\n",
            "Saved dar_0ccd08_142_\n",
            "Saved dar_0ccd08_143_\n",
            "Saved dar_0ccd08_144_\n",
            "Saved dar_0ccd08_145_\n",
            "Saved dar_0ccd08_146_\n",
            "Saved dar_0ccd08_147_\n",
            "Saved dar_0ccd08_148_\n",
            "Saved dar_0ccd08_149_\n",
            "Saved dar_0ccd08_150_\n",
            "Saved dar_0ccd08_151_\n",
            "Saved dar_0ccd08_152_\n",
            "Saved dar_0ccd08_153_\n",
            "Saved dar_0ccd08_154_\n",
            "Saved dar_0ccd08_155_\n",
            "Saved dar_0ccd08_156_\n",
            "Saved dar_0ccd08_157_\n",
            "Saved dar_0ccd08_158_\n",
            "Saved dar_0ccd08_159_\n",
            "Saved dar_0ccd08_160_\n",
            "Saved dar_0ccd08_161_\n"
          ],
          "name": "stdout"
        }
      ]
    },
    {
      "cell_type": "code",
      "metadata": {
        "id": "Rqgti7PCg-ot",
        "colab_type": "code",
        "colab": {}
      },
      "source": [
        "completed_task2 = []"
      ],
      "execution_count": 0,
      "outputs": []
    },
    {
      "cell_type": "code",
      "metadata": {
        "id": "MrIjMQghkOSE",
        "colab_type": "code",
        "colab": {
          "base_uri": "https://localhost:8080/",
          "height": 338
        },
        "outputId": "619dbe31-32e6-4166-b0d7-a3d97aa66aa4"
      },
      "source": [
        "# You could fetch all the data with:\n",
        "for a in [a for a in areas2 if a not in completed_task2] :\n",
        "  save_area_id_images(area = a[0], img_id = a[1], label_id=a[2], zoom_level = 19, tile_size = 256)\n",
        "  completed_task.append(a)\n",
        "  print('-'*10+'completed'+'-'*10,'\\n', completed_task2, '\\n'+'-'*25)"
      ],
      "execution_count": 18,
      "outputs": [
        {
          "output_type": "error",
          "ename": "AttributeError",
          "evalue": "ignored",
          "traceback": [
            "\u001b[0;31m---------------------------------------------------------------------------\u001b[0m",
            "\u001b[0;31mAttributeError\u001b[0m                            Traceback (most recent call last)",
            "\u001b[0;32m<ipython-input-18-50d098beda0c>\u001b[0m in \u001b[0;36m<module>\u001b[0;34m()\u001b[0m\n\u001b[1;32m      1\u001b[0m \u001b[0;32mfor\u001b[0m \u001b[0ma\u001b[0m \u001b[0;32min\u001b[0m \u001b[0;34m[\u001b[0m\u001b[0ma\u001b[0m \u001b[0;32mfor\u001b[0m \u001b[0ma\u001b[0m \u001b[0;32min\u001b[0m \u001b[0mareas2\u001b[0m \u001b[0;32mif\u001b[0m \u001b[0ma\u001b[0m \u001b[0;32mnot\u001b[0m \u001b[0;32min\u001b[0m \u001b[0mcompleted_task2\u001b[0m\u001b[0;34m]\u001b[0m \u001b[0;34m:\u001b[0m\u001b[0;34m\u001b[0m\u001b[0;34m\u001b[0m\u001b[0m\n\u001b[0;32m----> 2\u001b[0;31m   \u001b[0msave_area_id_images\u001b[0m\u001b[0;34m(\u001b[0m\u001b[0marea\u001b[0m \u001b[0;34m=\u001b[0m \u001b[0ma\u001b[0m\u001b[0;34m[\u001b[0m\u001b[0;36m0\u001b[0m\u001b[0;34m]\u001b[0m\u001b[0;34m,\u001b[0m \u001b[0mimg_id\u001b[0m \u001b[0;34m=\u001b[0m \u001b[0ma\u001b[0m\u001b[0;34m[\u001b[0m\u001b[0;36m1\u001b[0m\u001b[0;34m]\u001b[0m\u001b[0;34m,\u001b[0m \u001b[0mlabel_id\u001b[0m\u001b[0;34m=\u001b[0m\u001b[0ma\u001b[0m\u001b[0;34m[\u001b[0m\u001b[0;36m2\u001b[0m\u001b[0;34m]\u001b[0m\u001b[0;34m,\u001b[0m \u001b[0mzoom_level\u001b[0m \u001b[0;34m=\u001b[0m \u001b[0;36m19\u001b[0m\u001b[0;34m,\u001b[0m \u001b[0mtile_size\u001b[0m \u001b[0;34m=\u001b[0m \u001b[0;36m256\u001b[0m\u001b[0;34m)\u001b[0m\u001b[0;34m\u001b[0m\u001b[0;34m\u001b[0m\u001b[0m\n\u001b[0m\u001b[1;32m      3\u001b[0m   \u001b[0mcompleted_task\u001b[0m\u001b[0;34m.\u001b[0m\u001b[0mappend\u001b[0m\u001b[0;34m(\u001b[0m\u001b[0ma\u001b[0m\u001b[0;34m)\u001b[0m\u001b[0;34m\u001b[0m\u001b[0;34m\u001b[0m\u001b[0m\n\u001b[1;32m      4\u001b[0m   \u001b[0mprint\u001b[0m\u001b[0;34m(\u001b[0m\u001b[0;34m'-'\u001b[0m\u001b[0;34m*\u001b[0m\u001b[0;36m10\u001b[0m\u001b[0;34m+\u001b[0m\u001b[0;34m'completed'\u001b[0m\u001b[0;34m+\u001b[0m\u001b[0;34m'-'\u001b[0m\u001b[0;34m*\u001b[0m\u001b[0;36m10\u001b[0m\u001b[0;34m,\u001b[0m\u001b[0;34m'\\n'\u001b[0m\u001b[0;34m,\u001b[0m \u001b[0mcompleted_task2\u001b[0m\u001b[0;34m,\u001b[0m \u001b[0;34m'\\n'\u001b[0m\u001b[0;34m+\u001b[0m\u001b[0;34m'-'\u001b[0m\u001b[0;34m*\u001b[0m\u001b[0;36m25\u001b[0m\u001b[0;34m)\u001b[0m\u001b[0;34m\u001b[0m\u001b[0;34m\u001b[0m\u001b[0m\n",
            "\u001b[0;32m<ipython-input-7-740237d9bd82>\u001b[0m in \u001b[0;36msave_area_id_images\u001b[0;34m(area, img_id, label_id, zoom_level, tile_size)\u001b[0m\n\u001b[1;32m     33\u001b[0m   \u001b[0;31m# Load labels shapefile\u001b[0m\u001b[0;34m\u001b[0m\u001b[0;34m\u001b[0m\u001b[0;34m\u001b[0m\u001b[0m\n\u001b[1;32m     34\u001b[0m   \u001b[0mlab\u001b[0m \u001b[0;34m=\u001b[0m \u001b[0mcols\u001b[0m\u001b[0;34m[\u001b[0m\u001b[0marea\u001b[0m\u001b[0;34m]\u001b[0m\u001b[0;34m.\u001b[0m\u001b[0mget_item\u001b[0m\u001b[0;34m(\u001b[0m\u001b[0mid\u001b[0m\u001b[0;34m=\u001b[0m\u001b[0mlabel_id\u001b[0m\u001b[0;34m)\u001b[0m\u001b[0;34m\u001b[0m\u001b[0;34m\u001b[0m\u001b[0m\n\u001b[0;32m---> 35\u001b[0;31m   \u001b[0mgdf\u001b[0m \u001b[0;34m=\u001b[0m \u001b[0mgpd\u001b[0m\u001b[0;34m.\u001b[0m\u001b[0mread_file\u001b[0m\u001b[0;34m(\u001b[0m\u001b[0mlab\u001b[0m\u001b[0;34m.\u001b[0m\u001b[0mmake_asset_hrefs_absolute\u001b[0m\u001b[0;34m(\u001b[0m\u001b[0;34m)\u001b[0m\u001b[0;34m.\u001b[0m\u001b[0massets\u001b[0m\u001b[0;34m[\u001b[0m\u001b[0;34m'labels'\u001b[0m\u001b[0;34m]\u001b[0m\u001b[0;34m.\u001b[0m\u001b[0mhref\u001b[0m\u001b[0;34m)\u001b[0m\u001b[0;34m\u001b[0m\u001b[0;34m\u001b[0m\u001b[0m\n\u001b[0m\u001b[1;32m     36\u001b[0m   \u001b[0;31m# get the geometries from the geodataframe\u001b[0m\u001b[0;34m\u001b[0m\u001b[0;34m\u001b[0m\u001b[0;34m\u001b[0m\u001b[0m\n\u001b[1;32m     37\u001b[0m   \u001b[0mall_polys\u001b[0m \u001b[0;34m=\u001b[0m \u001b[0mgdf\u001b[0m\u001b[0;34m.\u001b[0m\u001b[0mgeometry\u001b[0m\u001b[0;34m\u001b[0m\u001b[0;34m\u001b[0m\u001b[0m\n",
            "\u001b[0;31mAttributeError\u001b[0m: 'NoneType' object has no attribute 'make_asset_hrefs_absolute'"
          ]
        }
      ]
    },
    {
      "cell_type": "code",
      "metadata": {
        "id": "OUtgVIgoYXmT",
        "colab_type": "code",
        "colab": {}
      },
      "source": [
        ""
      ],
      "execution_count": 0,
      "outputs": []
    }
  ]
}